{
 "cells": [
  {
   "cell_type": "markdown",
   "metadata": {},
   "source": [
    "## Intro"
   ]
  },
  {
   "cell_type": "markdown",
   "metadata": {},
   "source": [
    "In this Notebook I will train and evaluate two different Trigram models.\n",
    "More precisely I will use two different approaches for creating a Trigram model.\n",
    "Approach 1 is to build a matrix that holds the true probability distribution of which character \n",
    "comes next given that the model has been given two particular preceeding characters.\n",
    "We then sample from this distribution to produce the next character in the output 'name'.\n",
    "\n",
    "The second approach is to use a Neural Net. We take in the two preceeding characters to generate the next one \n",
    "and so on. The goal is to achieve the same performance or loss using the Neural Net approach as with approach 1.\n",
    "As you will see approach 1 is the perfect approach given the loss function I will use. \n",
    "It is impossible to achieve better loss with a Neural Net approach to the Trigram model."
   ]
  },
  {
   "cell_type": "code",
   "execution_count": 1,
   "metadata": {},
   "outputs": [],
   "source": [
    "import torch"
   ]
  },
  {
   "cell_type": "markdown",
   "metadata": {},
   "source": [
    "## First approach"
   ]
  },
  {
   "cell_type": "markdown",
   "metadata": {},
   "source": [
    "We begin by loading in all the names from the text file:"
   ]
  },
  {
   "cell_type": "code",
   "execution_count": 2,
   "metadata": {},
   "outputs": [],
   "source": [
    "words = open('names_dataset.txt', 'r').read().splitlines()"
   ]
  },
  {
   "cell_type": "markdown",
   "metadata": {},
   "source": [
    "A peak at some names"
   ]
  },
  {
   "cell_type": "code",
   "execution_count": 3,
   "metadata": {},
   "outputs": [
    {
     "data": {
      "text/plain": [
       "['emma',\n",
       " 'olivia',\n",
       " 'ava',\n",
       " 'isabella',\n",
       " 'sophia',\n",
       " 'charlotte',\n",
       " 'mia',\n",
       " 'amelia',\n",
       " 'harper',\n",
       " 'evelyn']"
      ]
     },
     "execution_count": 3,
     "metadata": {},
     "output_type": "execute_result"
    }
   ],
   "source": [
    "words[0:10]"
   ]
  },
  {
   "cell_type": "markdown",
   "metadata": {},
   "source": [
    "Splitting up the Dataset into a Train and Test split. 80/20"
   ]
  },
  {
   "cell_type": "code",
   "execution_count": 57,
   "metadata": {},
   "outputs": [
    {
     "name": "stdout",
     "output_type": "stream",
     "text": [
      "Number of Training Names: 25626\n",
      "Number of Validation Names: 3203\n",
      "Number of Testing Names: 3204\n"
     ]
    }
   ],
   "source": [
    "from sklearn.model_selection import train_test_split\n",
    "\n",
    "# Split the data\n",
    "train_names, temp_names = train_test_split(words, test_size=0.2, random_state=42)  # 20% for testing\n",
    "val_names, test_names = train_test_split(temp_names, test_size=0.5, random_state=42)  # 20% for testing\n",
    "\n",
    "print(\"Number of Training Names:\", len(train_names))\n",
    "print(\"Number of Validation Names:\", len(val_names))\n",
    "print(\"Number of Testing Names:\", len(test_names))\n",
    "\n"
   ]
  },
  {
   "cell_type": "markdown",
   "metadata": {},
   "source": [
    "Initializing the matrix that will hold the counts for future characters,\n",
    "please observe that we need 256 rows because for 27 characters the possible\n",
    "permutations of 2 characters following each other is 27^2 = 27 * 27 = 729.\n",
    "But I will actually use 729 - 27 = 720 rows because I will ignore all entries\n",
    "that has the * character as the last because if that has happened the model has already stopped producing output."
   ]
  },
  {
   "cell_type": "code",
   "execution_count": 36,
   "metadata": {},
   "outputs": [
    {
     "data": {
      "text/plain": [
       "torch.Size([702, 27])"
      ]
     },
     "execution_count": 36,
     "metadata": {},
     "output_type": "execute_result"
    }
   ],
   "source": [
    "# Every row in this matrix will eventually be filled with the prob-distribution of the next characters given two particular preceeding characters\n",
    "N = torch.zeros((702, 27), dtype=torch.int32)\n",
    "N.shape"
   ]
  },
  {
   "cell_type": "markdown",
   "metadata": {},
   "source": [
    "Creating two mappings between integers and characters so I can represent every characters with an integer in computations"
   ]
  },
  {
   "cell_type": "code",
   "execution_count": 37,
   "metadata": {},
   "outputs": [
    {
     "data": {
      "text/plain": [
       "{0: '*',\n",
       " 1: 'a',\n",
       " 2: 'b',\n",
       " 3: 'c',\n",
       " 4: 'd',\n",
       " 5: 'e',\n",
       " 6: 'f',\n",
       " 7: 'g',\n",
       " 8: 'h',\n",
       " 9: 'i',\n",
       " 10: 'j',\n",
       " 11: 'k',\n",
       " 12: 'l',\n",
       " 13: 'm',\n",
       " 14: 'n',\n",
       " 15: 'o',\n",
       " 16: 'p',\n",
       " 17: 'q',\n",
       " 18: 'r',\n",
       " 19: 's',\n",
       " 20: 't',\n",
       " 21: 'u',\n",
       " 22: 'v',\n",
       " 23: 'w',\n",
       " 24: 'x',\n",
       " 25: 'y',\n",
       " 26: 'z'}"
      ]
     },
     "execution_count": 37,
     "metadata": {},
     "output_type": "execute_result"
    }
   ],
   "source": [
    "chars = sorted(list(set(''.join(words))))\n",
    "chars.insert(0, '*')\n",
    "stoi = {s:i for i, s in enumerate(chars)}\n",
    "itos = {i:s for s,i in stoi.items()}\n",
    "stoi\n",
    "itos"
   ]
  },
  {
   "cell_type": "markdown",
   "metadata": {},
   "source": [
    "Creating two mappings between pairs of characters and Integers. \n",
    "Ignoring all entries that end with *, because if that happens the model has already stopped producing output."
   ]
  },
  {
   "cell_type": "code",
   "execution_count": 38,
   "metadata": {},
   "outputs": [],
   "source": [
    "chars = sorted(list(set(''.join(words))))\n",
    "chars.insert(0, '*')\n",
    "\n",
    "twochars = []\n",
    "for char1 in chars:\n",
    "    for char2 in chars:\n",
    "        if char2 != '*':\n",
    "            twochars.append(f'{char1}{char2}')\n",
    "\n",
    "doublettoi = {s:i for i, s in enumerate(twochars)}\n",
    "itodoublet = {i:s for s,i in doublettoi.items()}\n"
   ]
  },
  {
   "cell_type": "markdown",
   "metadata": {},
   "source": [
    "Time to populate our matrix with counts of future characters!\n",
    "I will use * to signal beginning and end of string. This will also be treated as a character."
   ]
  },
  {
   "cell_type": "code",
   "execution_count": 39,
   "metadata": {},
   "outputs": [],
   "source": [
    "for w in train_names:\n",
    "    chs = ['*'] + list(w) + ['*']\n",
    "    for i in range(len(chs) - 2):\n",
    "        doublet = chs[i] + chs[i + 1]\n",
    "        ch2 = chs[i + 2]\n",
    "        ix1 = doublettoi[doublet]\n",
    "        ix2 = stoi[ch2]\n",
    "        # print(f\"{doublet}, {ch2}\")\n",
    "        N[ix1, ix2] += 1\n"
   ]
  },
  {
   "cell_type": "markdown",
   "metadata": {},
   "source": [
    "Small regularization to N:"
   ]
  },
  {
   "cell_type": "code",
   "execution_count": 40,
   "metadata": {},
   "outputs": [],
   "source": [
    "# Adding a tiny bit of smoothing to N so we dont get any zero-probabilities:\n",
    "N += 1"
   ]
  },
  {
   "cell_type": "markdown",
   "metadata": {},
   "source": [
    "This code will visualize our matrix that holds the counts. Darker blue indicates more instances and white indicates no instances.\n",
    "Beware that the matrix plot is very long since we have so many permutations of two characters."
   ]
  },
  {
   "cell_type": "code",
   "execution_count": null,
   "metadata": {},
   "outputs": [],
   "source": [
    "import matplotlib.pyplot as plt\n",
    "%matplotlib inline\n",
    "\n",
    "plt.figure(figsize=(16, 420))\n",
    "plt.imshow(N, cmap='Blues')\n",
    "for i in range(702):\n",
    "    for j in range(27):\n",
    "        chstr = itodoublet[i] + ' ' + itos[j]\n",
    "        plt.text(j, i, chstr, ha='center', va='bottom', color='gray')\n",
    "        plt.text(j, i, N[i, j].item(), ha='center', va='top', color='gray')\n",
    "plt.axis('off')"
   ]
  },
  {
   "cell_type": "markdown",
   "metadata": {},
   "source": [
    "Now we will convert this Count Matrix to a Probability Matrix:"
   ]
  },
  {
   "cell_type": "code",
   "execution_count": 41,
   "metadata": {},
   "outputs": [
    {
     "data": {
      "text/plain": [
       "torch.Size([702, 27])"
      ]
     },
     "execution_count": 41,
     "metadata": {},
     "output_type": "execute_result"
    }
   ],
   "source": [
    "P = (N).float()\n",
    "P.shape"
   ]
  },
  {
   "cell_type": "markdown",
   "metadata": {},
   "source": [
    "Time to convert the Count-Matrix to a probability-Matrix. Now every row will contain a probability distribution based on the counts of that row."
   ]
  },
  {
   "cell_type": "code",
   "execution_count": 42,
   "metadata": {},
   "outputs": [],
   "source": [
    "P /= P.sum(1, keepdim=True)"
   ]
  },
  {
   "cell_type": "markdown",
   "metadata": {},
   "source": [
    "This code will visualize the probabilites for the next character given the previous two characters. Please beware that this matrix is very long so after you've had a look at the matrix maybe clear the ouput so you don't have to scroll a lot."
   ]
  },
  {
   "cell_type": "code",
   "execution_count": null,
   "metadata": {},
   "outputs": [],
   "source": [
    "\n",
    "\n",
    "import matplotlib.pyplot as plt\n",
    "%matplotlib inline\n",
    "\n",
    "plt.figure(figsize=(16, 420))\n",
    "plt.imshow(P, cmap='Blues')\n",
    "for i in range(702):\n",
    "    for j in range(27):\n",
    "        chstr = itodoublet[i] + ' ' + itos[j]\n",
    "        plt.text(j, i, chstr, ha='center', va='bottom', color='gray')\n",
    "        plt.text(j, i, \"{:.3f}\".format(P[i, j].item()), ha='center', va='top', color='gray')\n",
    "plt.axis('off')"
   ]
  },
  {
   "cell_type": "markdown",
   "metadata": {},
   "source": [
    "Before I will generate names I will find the probability distribution of the first character in all the names. This is because for our Trigram model to be able to start generating outputs we need two input characters. We only have '*' in the beginning so we need a first character also. We can generate a random first character but this will produce far more unnatural names rather than if we sample from the true distribution of the first characters in our dataset. Therefore we perform the following step: "
   ]
  },
  {
   "cell_type": "code",
   "execution_count": 58,
   "metadata": {},
   "outputs": [],
   "source": [
    "names = train_names\n",
    "\n",
    "# Initializing a dictionary\n",
    "first_char_counts = {}\n",
    "\n",
    "# Counting each first character\n",
    "for name in names:\n",
    "    if name:\n",
    "        first_char = name[0].lower()\n",
    "        if first_char in first_char_counts:\n",
    "            first_char_counts[first_char] += 1\n",
    "        else:\n",
    "            first_char_counts[first_char] = 1\n",
    "\n",
    "# Converting counts to probabilities\n",
    "total_names = len(names)\n",
    "first_char_probabilities = {char: count / total_names for char, count in first_char_counts.items()}\n",
    "\n",
    "# Plucking out the probabilities for each character\n",
    "sorted_probs = sorted(first_char_probabilities.items())  \n",
    "prob_values = [prob for char, prob in sorted_probs]  \n",
    "\n",
    "# Converting to a PyTorch tensor\n",
    "first_character_probs = torch.tensor(prob_values, dtype=torch.float32)"
   ]
  },
  {
   "cell_type": "markdown",
   "metadata": {},
   "source": [
    "Now we can sample from P to get the next character until we get *, in that case we stop generating and we break."
   ]
  },
  {
   "cell_type": "code",
   "execution_count": 48,
   "metadata": {},
   "outputs": [
    {
     "name": "stdout",
     "output_type": "stream",
     "text": [
      "Name:  nueth\n",
      "Name:  lesaillindynklyn\n",
      "Name:  cam\n",
      "Name:  od\n",
      "Name:  xnnia\n",
      "Name:  bana\n",
      "Name:  imalanna\n",
      "Name:  im\n",
      "Name:  nin\n",
      "Name:  azion\n",
      "Name:  quin\n",
      "Name:  gre\n",
      "Name:  here\n",
      "Name:  jayana\n",
      "Name:  vis\n",
      "Name:  rannogpjxjeryah\n",
      "Name:  rayk\n",
      "Name:  ceovfrbah\n",
      "Name:  youray\n",
      "Name:  q\n",
      "Name:  kasha\n",
      "Name:  iva\n",
      "Name:  bentrukwu\n",
      "Name:  iys\n",
      "Name:  caironna\n",
      "Name:  grosabiq\n",
      "Name:  rumalie\n",
      "Name:  jan\n",
      "Name:  jerne\n",
      "Name:  vannia\n",
      "Name:  lan\n",
      "Name:  ylendanni\n",
      "Name:  chajay\n",
      "Name:  hud\n",
      "Name:  ivedsynnjaziesminluwen\n",
      "Name:  gra\n",
      "Name:  inglekileelyn\n",
      "Name:  is\n",
      "Name:  um\n",
      "Name:  gian\n",
      "Name:  em\n",
      "Name:  stcjldmzbres\n",
      "Name:  ka\n",
      "Name:  selie\n",
      "Name:  kencmla\n",
      "Name:  aydne\n"
     ]
    }
   ],
   "source": [
    "# We can generate 20 names for example:\n",
    "\n",
    "g = torch.Generator().manual_seed(423283494)\n",
    "\n",
    "for i in range(50):\n",
    "    out = []\n",
    "\n",
    "    # Sampling the first character:\n",
    "    first_char = torch.multinomial(first_character_probs, num_samples=1)\n",
    "    first_char = itos[first_char.item()]\n",
    "    if first_char == '*':\n",
    "        continue\n",
    "    first_doublet = f'*{first_char}'\n",
    "    first_doublet_index = torch.tensor(doublettoi[first_doublet])\n",
    "    out.append(first_char)\n",
    "    first_doublet = f'*{first_char}'\n",
    "\n",
    "    ix = doublettoi[first_doublet]\n",
    "    \n",
    "    while True:\n",
    "\n",
    "        # Pluck out the probability distribution for the next character\n",
    "        p = P[ix]\n",
    "\n",
    "        #print('ix: ', ix)\n",
    "        #print('current input doublet: ', itodoublet[ix])\n",
    "        # Sampling\n",
    "        next_char_ix = torch.multinomial(p, num_samples=1, replacement=True, generator=g).item()\n",
    "\n",
    "        #print('next char ix: ', next_char_ix)\n",
    "        if next_char_ix == 0:\n",
    "            break\n",
    "        #print('Adding to out: ', itos[next_char_ix])\n",
    "        out.append(itos[next_char_ix])\n",
    "        next_doublet = ''.join(out[-2:])\n",
    "        #print('next_doublet: ', next_doublet)\n",
    "\n",
    "        ix = doublettoi[next_doublet]\n",
    "\n",
    "    print('Name: ', ''.join(out))"
   ]
  },
  {
   "cell_type": "markdown",
   "metadata": {},
   "source": [
    "Let's evaluate our Trigram model on our test-set and see what our Negative Log-likehihood is. We want this value (loss) to be as low as possible. A value of zero indicates that our model is 100% confident about every character in every word showing up when they actually do. In other words it would be able to perfectly predict the names in our dataset. This can't happen in practice but in theory that is kind of what we aim for."
   ]
  },
  {
   "cell_type": "code",
   "execution_count": 49,
   "metadata": {},
   "outputs": [
    {
     "name": "stdout",
     "output_type": "stream",
     "text": [
      "Log Likelihood is: -41790.421875\n",
      "Negative Log Likelihood is: 41790.421875\n",
      "Average Negative Log Likelihood is: 2.136197090148926\n"
     ]
    }
   ],
   "source": [
    "log_likelihood = 0.0\n",
    "count = 0\n",
    "\n",
    "for w in test_names:\n",
    "    chs = ['*'] + list(w) + ['*']\n",
    "    for i in range(len(chs) - 2):\n",
    "        doublet = chs[i] + chs[i + 1]\n",
    "        ch2 = chs[i + 2]\n",
    "        ix1 = doublettoi[doublet]\n",
    "        ix2 = stoi[ch2]\n",
    "        prob = P[ix1, ix2]\n",
    "        logprob = torch.log(prob)\n",
    "        log_likelihood += logprob\n",
    "        count += 1\n",
    "\n",
    "\n",
    "print(f\"Log Likelihood is: {log_likelihood}\")\n",
    "nll = -log_likelihood\n",
    "print(f\"Negative Log Likelihood is: {nll}\")\n",
    "mean_nll = nll/count\n",
    "print(f\"Average Negative Log Likelihood is: {mean_nll}\")"
   ]
  },
  {
   "cell_type": "markdown",
   "metadata": {},
   "source": [
    "So the loss we achieve on the first approach using a probability matrix is roughly 2.126."
   ]
  },
  {
   "cell_type": "markdown",
   "metadata": {},
   "source": [
    "Now we will do the same thing but with a Neural Net instead:"
   ]
  },
  {
   "cell_type": "code",
   "execution_count": 60,
   "metadata": {},
   "outputs": [
    {
     "name": "stdout",
     "output_type": "stream",
     "text": [
      "Number of examples:  156871\n"
     ]
    },
    {
     "data": {
      "text/plain": [
       "(tensor([  8, 247, 367,  ..., 472, 141, 323]),\n",
       " tensor([14,  4,  9,  ..., 12, 12,  0]))"
      ]
     },
     "execution_count": 60,
     "metadata": {},
     "output_type": "execute_result"
    }
   ],
   "source": [
    "# Creating a Neural Net to solve the same task:\n",
    "\n",
    "# Creating the Train Dataset:\n",
    "\n",
    "xs, ys = [], []\n",
    "\n",
    "for w in train_names:\n",
    "    chs = ['*'] + list(w) + ['*']\n",
    "    for i in range(len(chs) - 2):\n",
    "        doublet = chs[i] + chs[i + 1]\n",
    "        ch2 = chs[i + 2]\n",
    "        ix1 = doublettoi[doublet]\n",
    "        ix2 = stoi[ch2]\n",
    "        xs.append(ix1)\n",
    "        ys.append(ix2)\n",
    "\n",
    "xs = torch.tensor(xs)\n",
    "ys = torch.tensor(ys)\n",
    "\n",
    "num_examples = xs.nelement()\n",
    "print('Number of examples: ', num_examples)\n",
    "xs, ys"
   ]
  },
  {
   "cell_type": "markdown",
   "metadata": {},
   "source": [
    "Our Neurons will each receive 702 inputs and we will have 27 neurons in total producing an output with dim 1 x 27. We will interpret these outputs as a probability distribution over the next character given an input of a two-character string."
   ]
  },
  {
   "cell_type": "code",
   "execution_count": 74,
   "metadata": {},
   "outputs": [],
   "source": [
    "# Initializing the Neural Network:\n",
    "\n",
    "g = torch.Generator().manual_seed(2147483647)\n",
    "W = torch.randn((27, 702), generator=g, requires_grad=True)"
   ]
  },
  {
   "cell_type": "markdown",
   "metadata": {},
   "source": [
    "This is the code that will process inputs with our neural net, calculate the loss, from the loss calculate the gradients and from the gradient update the weights in our Neural Net properly."
   ]
  },
  {
   "cell_type": "code",
   "execution_count": 75,
   "metadata": {},
   "outputs": [
    {
     "name": "stdout",
     "output_type": "stream",
     "text": [
      "156871\n",
      "3.795470714569092\n",
      "3.6691458225250244\n",
      "3.5582337379455566\n",
      "3.459677219390869\n",
      "3.3721277713775635\n",
      "3.294570207595825\n",
      "3.2260923385620117\n",
      "3.1658267974853516\n",
      "3.1128854751586914\n",
      "3.0662763118743896\n",
      "3.0250072479248047\n",
      "2.988192558288574\n",
      "2.955105781555176\n",
      "2.92516827583313\n",
      "2.8979084491729736\n",
      "2.872943162918091\n",
      "2.8499512672424316\n",
      "2.828664541244507\n",
      "2.8088691234588623\n",
      "2.7903780937194824\n",
      "2.773036003112793\n",
      "2.756716728210449\n",
      "2.74131441116333\n",
      "2.726740598678589\n",
      "2.712919235229492\n",
      "2.6997838020324707\n",
      "2.6872799396514893\n",
      "2.6753551959991455\n",
      "2.6639668941497803\n",
      "2.6530776023864746\n",
      "2.642655849456787\n",
      "2.6326708793640137\n",
      "2.6230976581573486\n",
      "2.613909959793091\n",
      "2.605083703994751\n",
      "2.596597194671631\n",
      "2.5884323120117188\n",
      "2.580569267272949\n",
      "2.5729944705963135\n",
      "2.565692186355591\n",
      "2.5586469173431396\n",
      "2.551844835281372\n",
      "2.545274019241333\n",
      "2.5389230251312256\n",
      "2.532780408859253\n",
      "2.526836633682251\n",
      "2.5210819244384766\n",
      "2.5155067443847656\n",
      "2.5101020336151123\n",
      "2.50486159324646\n",
      "2.4997761249542236\n",
      "2.494837999343872\n",
      "2.490041971206665\n",
      "2.4853813648223877\n",
      "2.4808499813079834\n",
      "2.4764418601989746\n",
      "2.4721522331237793\n",
      "2.467975378036499\n",
      "2.4639079570770264\n",
      "2.459944486618042\n",
      "2.4560811519622803\n",
      "2.4523136615753174\n",
      "2.448638677597046\n",
      "2.445051908493042\n",
      "2.4415502548217773\n",
      "2.4381306171417236\n",
      "2.434788942337036\n",
      "2.4315240383148193\n",
      "2.4283316135406494\n",
      "2.4252099990844727\n",
      "2.422157049179077\n",
      "2.419170379638672\n",
      "2.4162468910217285\n",
      "2.4133851528167725\n",
      "2.410583257675171\n",
      "2.4078385829925537\n",
      "2.405149221420288\n",
      "2.4025137424468994\n",
      "2.399930477142334\n",
      "2.397397518157959\n",
      "2.394913673400879\n",
      "2.3924779891967773\n",
      "2.3900890350341797\n",
      "2.3877453804016113\n",
      "2.3854446411132812\n",
      "2.3831865787506104\n",
      "2.3809690475463867\n",
      "2.3787920475006104\n",
      "2.3766534328460693\n",
      "2.3745522499084473\n",
      "2.372488260269165\n",
      "2.3704593181610107\n",
      "2.3684656620025635\n",
      "2.3665060997009277\n",
      "2.364579677581787\n",
      "2.362685203552246\n",
      "2.3608224391937256\n",
      "2.358989715576172\n",
      "2.357186794281006\n",
      "2.3554134368896484\n",
      "2.353667974472046\n",
      "2.3519511222839355\n",
      "2.3502614498138428\n",
      "2.3485982418060303\n",
      "2.346961259841919\n",
      "2.3453493118286133\n",
      "2.343761920928955\n",
      "2.342198371887207\n",
      "2.340658664703369\n",
      "2.3391411304473877\n",
      "2.337646484375\n",
      "2.3361732959747314\n",
      "2.334721803665161\n",
      "2.3332908153533936\n",
      "2.3318800926208496\n",
      "2.330489158630371\n",
      "2.3291172981262207\n",
      "2.3277647495269775\n",
      "2.3264307975769043\n",
      "2.3251144886016846\n",
      "2.323817014694214\n",
      "2.3225364685058594\n",
      "2.3212738037109375\n",
      "2.320028066635132\n",
      "2.318798542022705\n",
      "2.317584753036499\n",
      "2.3163869380950928\n",
      "2.315204381942749\n",
      "2.314037322998047\n",
      "2.312885046005249\n",
      "2.311746835708618\n",
      "2.31062388420105\n",
      "2.309513807296753\n",
      "2.3084182739257812\n",
      "2.3073363304138184\n",
      "2.306267261505127\n",
      "2.305210828781128\n",
      "2.3041677474975586\n",
      "2.3031373023986816\n",
      "2.302119493484497\n",
      "2.3011131286621094\n",
      "2.300118923187256\n",
      "2.2991366386413574\n",
      "2.2981653213500977\n",
      "2.2972054481506348\n",
      "2.2962560653686523\n",
      "2.2953176498413086\n",
      "2.2943899631500244\n",
      "2.2934725284576416\n",
      "2.29256534576416\n",
      "2.291667938232422\n",
      "2.290780544281006\n",
      "2.289903163909912\n",
      "2.289034843444824\n",
      "2.2881767749786377\n",
      "2.287327766418457\n",
      "2.2864882946014404\n",
      "2.285658121109009\n",
      "2.2848362922668457\n",
      "2.2840235233306885\n",
      "2.2832188606262207\n",
      "2.282423257827759\n",
      "2.281635284423828\n",
      "2.280855417251587\n",
      "2.2800838947296143\n",
      "2.279320478439331\n",
      "2.278564929962158\n",
      "2.2778172492980957\n",
      "2.277076244354248\n",
      "2.276343584060669\n",
      "2.2756175994873047\n",
      "2.274899482727051\n",
      "2.2741880416870117\n",
      "2.273483991622925\n",
      "2.2727866172790527\n",
      "2.2720959186553955\n",
      "2.271411657333374\n",
      "2.2707338333129883\n",
      "2.2700631618499756\n",
      "2.2693986892700195\n",
      "2.268740177154541\n",
      "2.26808762550354\n",
      "2.267441511154175\n",
      "2.266801357269287\n",
      "2.266166925430298\n",
      "2.265538215637207\n",
      "2.264915943145752\n",
      "2.264298915863037\n",
      "2.2636876106262207\n",
      "2.2630815505981445\n",
      "2.262481212615967\n",
      "2.2618861198425293\n",
      "2.261296272277832\n",
      "2.260711431503296\n",
      "2.2601318359375\n",
      "2.2595574855804443\n",
      "2.2589879035949707\n",
      "2.2584235668182373\n",
      "2.257863998413086\n",
      "2.2573091983795166\n",
      "2.2567591667175293\n",
      "2.256213903427124\n",
      "2.2556729316711426\n",
      "2.2551372051239014\n",
      "2.254605770111084\n",
      "2.2540788650512695\n",
      "2.253556251525879\n",
      "2.253038167953491\n",
      "2.252523899078369\n",
      "2.252014398574829\n",
      "2.2515087127685547\n",
      "2.2510077953338623\n",
      "2.2505104541778564\n",
      "2.2500174045562744\n",
      "2.249528169631958\n",
      "2.2490427494049072\n",
      "2.2485616207122803\n",
      "2.2480835914611816\n",
      "2.247610092163086\n",
      "2.247140407562256\n",
      "2.246674060821533\n",
      "2.2462117671966553\n",
      "2.245753049850464\n",
      "2.245298385620117\n",
      "2.2448465824127197\n",
      "2.2443981170654297\n",
      "2.2439537048339844\n",
      "2.2435121536254883\n",
      "2.2430739402770996\n",
      "2.2426393032073975\n",
      "2.2422080039978027\n",
      "2.2417798042297363\n",
      "2.241354465484619\n",
      "2.2409329414367676\n",
      "2.240513801574707\n",
      "2.240098714828491\n",
      "2.2396860122680664\n",
      "2.239276885986328\n",
      "2.238870620727539\n",
      "2.23846697807312\n",
      "2.2380664348602295\n",
      "2.237668991088867\n",
      "2.237273931503296\n",
      "2.236882448196411\n",
      "2.2364931106567383\n",
      "2.2361066341400146\n",
      "2.2357237339019775\n",
      "2.2353429794311523\n",
      "2.2349655628204346\n",
      "2.234590530395508\n",
      "2.2342183589935303\n",
      "2.2338485717773438\n",
      "2.2334814071655273\n",
      "2.2331173419952393\n",
      "2.232755661010742\n",
      "2.232396364212036\n",
      "2.232039451599121\n",
      "2.231684684753418\n",
      "2.231332778930664\n",
      "2.230983018875122\n",
      "2.230635643005371\n",
      "2.230290651321411\n",
      "2.229947805404663\n",
      "2.229607343673706\n",
      "2.229269027709961\n",
      "2.228933811187744\n",
      "2.22860050201416\n",
      "2.228269100189209\n",
      "2.227940082550049\n",
      "2.2276129722595215\n",
      "2.2272884845733643\n",
      "2.22696590423584\n",
      "2.226644992828369\n",
      "2.2263264656066895\n",
      "2.226010322570801\n",
      "2.225695848464966\n",
      "2.225383758544922\n",
      "2.2250735759735107\n",
      "2.2247653007507324\n",
      "2.224458932876587\n",
      "2.224154233932495\n",
      "2.2238519191741943\n",
      "2.2235515117645264\n",
      "2.2232532501220703\n",
      "2.222956657409668\n",
      "2.2226619720458984\n",
      "2.2223691940307617\n",
      "2.222078323364258\n",
      "2.2217888832092285\n",
      "2.221501588821411\n",
      "2.2212162017822266\n",
      "2.220932960510254\n",
      "2.2206509113311768\n",
      "2.2203705310821533\n",
      "2.2200918197631836\n",
      "2.2198150157928467\n",
      "2.2195398807525635\n",
      "2.219266176223755\n",
      "2.218994617462158\n",
      "2.218724489212036\n"
     ]
    }
   ],
   "source": [
    "import torch.nn.functional as F\n",
    "# Performing Gradient Descent to improve the performance of the Network:\n",
    "num_examples = xs.nelement()\n",
    "print(num_examples)\n",
    "\n",
    "for k in range(300):\n",
    "\n",
    "    # Forward pass\n",
    "    # We encode our input with the one-hot encoding, creating a tensor that is filled with 701 zeros and 1 one to signal which of the possible\n",
    "    # 702 input combinations is currently being fed to the network.\n",
    "    xenc = F.one_hot(xs, num_classes=702).float()\n",
    "    \n",
    "    logits = xenc @ W.T # Logits prediction\n",
    "    counts = logits.exp() # Now we only have positive counts\n",
    "    probs = counts / counts.sum(1, keepdim=True) # Now we have the probabilities outputted from the Neural Net for next character\n",
    "    # Also adding a regularization term to the loss to prevent overfitting the train set:\n",
    "    hyperparam_scalar = 0.05\n",
    "    loss = -probs[torch.arange(num_examples), ys].log().mean() + hyperparam_scalar*abs(W).mean() # The loss we use here is the Negative Log-likelihood Loss\n",
    "    print(loss.item())\n",
    "\n",
    "    # Backward pass\n",
    "    W.grad = None # Set to zero the gradient\n",
    "    loss.backward()\n",
    "\n",
    "    # Update\n",
    "    W.data += -80 * W.grad\n",
    "\n"
   ]
  },
  {
   "cell_type": "markdown",
   "metadata": {},
   "source": [
    "I am going to evaluate the loss on the test set to decide what value of the hyperparameter is best when we train the network. We want it to generalize well of course."
   ]
  },
  {
   "cell_type": "code",
   "execution_count": 67,
   "metadata": {},
   "outputs": [
    {
     "name": "stdout",
     "output_type": "stream",
     "text": [
      "Number of examples:  19679\n"
     ]
    }
   ],
   "source": [
    "# Creating the Val Dataset:\n",
    "\n",
    "xs_val, ys_val = [], []\n",
    "\n",
    "for w in val_names:\n",
    "    chs = ['*'] + list(w) + ['*']\n",
    "    for i in range(len(chs) - 2):\n",
    "        doublet = chs[i] + chs[i + 1]\n",
    "        ch2 = chs[i + 2]\n",
    "        ix1 = doublettoi[doublet]\n",
    "        ix2 = stoi[ch2]\n",
    "        xs_val.append(ix1)\n",
    "        ys_val.append(ix2)\n",
    "\n",
    "xs_val = torch.tensor(xs_val)\n",
    "ys_val = torch.tensor(ys_val)\n",
    "\n",
    "num_examples = xs_val.nelement()\n",
    "print('Number of examples: ', num_examples)"
   ]
  },
  {
   "cell_type": "markdown",
   "metadata": {},
   "source": [
    "Let's evaluate the loss on the validation set:"
   ]
  },
  {
   "cell_type": "code",
   "execution_count": 76,
   "metadata": {},
   "outputs": [
    {
     "name": "stdout",
     "output_type": "stream",
     "text": [
      "19679\n",
      "2.1695034503936768\n"
     ]
    }
   ],
   "source": [
    "import torch.nn.functional as F\n",
    "# Performing Gradient Descent to improve the performance of the Network:\n",
    "num_examples = xs_val.nelement()\n",
    "print(num_examples)\n",
    "\n",
    "# Forward pass\n",
    "\n",
    "# We encode our input with the one-hot encoding, creating a tensor that is filled with 701 zeros and 1 one to signal which of the possible\n",
    "# 702 input combinations is currently being fed to the network.\n",
    "xenc = F.one_hot(xs_val, num_classes=702).float()\n",
    "\n",
    "logits = xenc @ W.T # Logits prediction\n",
    "counts = logits.exp() # Now we only have positive counts\n",
    "probs = counts / counts.sum(1, keepdim=True) # Now we have the probabilities outputted from the Neural Net for next character\n",
    "loss = -probs[torch.arange(num_examples), ys_val].log().mean() # The loss we use here is the Negative Log-likelihood Loss\n",
    "print(loss.item())"
   ]
  },
  {
   "cell_type": "markdown",
   "metadata": {},
   "source": [
    "After a couple hyperparameter trials I decided on 0.05 for the hyperparameter scalar. That seemed like a good value."
   ]
  },
  {
   "cell_type": "markdown",
   "metadata": {},
   "source": [
    "Now let's evaluate the Neural Network on the Test-set:"
   ]
  },
  {
   "cell_type": "code",
   "execution_count": 77,
   "metadata": {},
   "outputs": [
    {
     "name": "stdout",
     "output_type": "stream",
     "text": [
      "Number of examples:  19563\n"
     ]
    }
   ],
   "source": [
    "# Creating the Test Dataset:\n",
    "\n",
    "xs_test, ys_test = [], []\n",
    "\n",
    "for w in test_names:\n",
    "    chs = ['*'] + list(w) + ['*']\n",
    "    for i in range(len(chs) - 2):\n",
    "        doublet = chs[i] + chs[i + 1]\n",
    "        ch2 = chs[i + 2]\n",
    "        ix1 = doublettoi[doublet]\n",
    "        ix2 = stoi[ch2]\n",
    "        xs_test.append(ix1)\n",
    "        ys_test.append(ix2)\n",
    "\n",
    "xs_test = torch.tensor(xs_test)\n",
    "ys_test = torch.tensor(ys_test)\n",
    "\n",
    "num_examples = xs_test.nelement()\n",
    "print('Number of examples: ', num_examples)"
   ]
  },
  {
   "cell_type": "code",
   "execution_count": 78,
   "metadata": {},
   "outputs": [
    {
     "name": "stdout",
     "output_type": "stream",
     "text": [
      "19563\n",
      "2.192317008972168\n"
     ]
    }
   ],
   "source": [
    "import torch.nn.functional as F\n",
    "# Performing Gradient Descent to improve the performance of the Network:\n",
    "num_examples = xs_test.nelement()\n",
    "print(num_examples)\n",
    "\n",
    "\n",
    "\n",
    "# Forward pass\n",
    "\n",
    "# We encode our input with the one-hot encoding, creating a tensor that is filled with 701 zeros and 1 one to signal which of the possible\n",
    "# 702 input combinations is currently being fed to the network.\n",
    "xenc = F.one_hot(xs_test, num_classes=702).float()\n",
    "\n",
    "logits = xenc @ W.T # Logits prediction\n",
    "counts = logits.exp() # Now we only have positive counts\n",
    "probs = counts / counts.sum(1, keepdim=True) # Now we have the probabilities outputted from the Neural Net for next character\n",
    "loss = -probs[torch.arange(num_examples), ys_test].log().mean() # The loss we use here is the Negative Log-likelihood Loss\n",
    "print(loss.item())"
   ]
  },
  {
   "cell_type": "markdown",
   "metadata": {},
   "source": [
    "If you run the training code for a couple of times you can actually achieve lower loss on the test-set than approach 1. This is actually really interesting and I dont know quite why at this point. I did not think that this was possible actually. But my best loss for approach 1 was: 2.156 and loss for approach 2 was: 2.152."
   ]
  },
  {
   "cell_type": "markdown",
   "metadata": {},
   "source": [
    "Now we can simulate some names with approach 2 as well:"
   ]
  },
  {
   "cell_type": "code",
   "execution_count": 79,
   "metadata": {},
   "outputs": [
    {
     "name": "stdout",
     "output_type": "stream",
     "text": [
      "ed\n",
      "zoelijade\n",
      "kah\n",
      "diyaziah\n",
      "mani\n",
      "khan\n",
      "josellae\n",
      "sh\n",
      "mai\n",
      "sonzlyri\n",
      "da\n",
      "denzighana\n",
      "peratezaleersolhvgzzametgxvjlqharcuyza\n",
      "sh\n",
      "henzpuyon\n",
      "jodleilanniquan\n",
      "warleenptxt\n",
      "gia\n",
      "maeley\n",
      "tia\n"
     ]
    }
   ],
   "source": [
    "for i in range(20):\n",
    "\n",
    "\n",
    "    first_char = torch.multinomial(first_character_probs, num_samples=1)\n",
    "    first_char = itos[first_char.item()+1]\n",
    "    first_doublet = f'*{first_char}'\n",
    "    first_doublet_index = torch.tensor(doublettoi[first_doublet])\n",
    "\n",
    "    start_symbol = F.one_hot(first_doublet_index, num_classes=702).float() # Inputting start symbol to the Neural Network to make it produce output characters\n",
    "    current_doublet = start_symbol\n",
    "    # Initializing current name:\n",
    "    current_word = []\n",
    "    # Adding the first randomly generated character:\n",
    "    current_word.append(first_char)\n",
    "\n",
    "    # This variable will keep track of the index of the current input doublet:\n",
    "    next_doublet_index = torch.tensor(1)\n",
    "\n",
    "    while(True):\n",
    "        logits = current_doublet @ W.T # Logits prediction\n",
    "        counts = logits.exp() # Now we only have positive counts\n",
    "        probs = counts / counts.sum(0, keepdim=True)\n",
    "        # probs = torch.ones(27) / 27 This line is for anyone curious about the difference between a Trigram and random generation\n",
    "\n",
    "        # Sampling next character index:\n",
    "        next_single_char_index = torch.multinomial(probs, num_samples=1)\n",
    "        # If it is * we have reached the end of the name\n",
    "        if next_single_char_index == 0:\n",
    "            break\n",
    "\n",
    "        # Plucking out next character from index:\n",
    "        next_char = itos[next_single_char_index.item()]\n",
    "        # Appending to current name:\n",
    "        current_word.append(next_char)\n",
    "        # Plucking out next doublet input:\n",
    "        next_doublet = current_word[-2:]\n",
    "        next_doublet = ''.join(next_doublet)\n",
    "        next_doublet_index = torch.tensor(doublettoi[next_doublet])\n",
    "        current_doublet = F.one_hot(next_doublet_index, num_classes=702).float()\n",
    "\n",
    "    # Printing the current name:\n",
    "    current_word = ''.join(current_word)\n",
    "    print(current_word)"
   ]
  },
  {
   "cell_type": "markdown",
   "metadata": {},
   "source": [
    "## That's that!\n",
    "Btw I'm really interested in business and AI.\n",
    "For any business ideas please reach out to filiplarssonnnn@gmail.com\n",
    "\n",
    "Bye!"
   ]
  }
 ],
 "metadata": {
  "kernelspec": {
   "display_name": "ml_project_env",
   "language": "python",
   "name": "ml_project_env"
  },
  "language_info": {
   "codemirror_mode": {
    "name": "ipython",
    "version": 3
   },
   "file_extension": ".py",
   "mimetype": "text/x-python",
   "name": "python",
   "nbconvert_exporter": "python",
   "pygments_lexer": "ipython3",
   "version": "3.12.3"
  }
 },
 "nbformat": 4,
 "nbformat_minor": 2
}
