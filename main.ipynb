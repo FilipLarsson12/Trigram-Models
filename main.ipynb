{
 "cells": [
  {
   "cell_type": "markdown",
   "metadata": {},
   "source": [
    "## Intro"
   ]
  },
  {
   "cell_type": "markdown",
   "metadata": {},
   "source": [
    "In this Notebook I will train and evaluate two different Trigram models.\n",
    "More precisely I will use two different approaches for creating a Trigram model.\n",
    "Approach 1 is to build a matrix that holds the true probability distribution of which character \n",
    "comes next given that the model has been given two particular preceeding characters.\n",
    "We then sample from this distribution to produce the next character in the output 'name'.\n",
    "\n",
    "The second approach is to use a Neural Net. We take in the two preceeding characters to generate the next one \n",
    "and so on. The goal is to achieve the same performance or loss using the Neural Net approach as with approach 1.\n",
    "As you will see approach 1 is the perfect approach given the loss function I will use. \n",
    "It is impossible to achieve better loss with a Neural Net approach to the Trigram model."
   ]
  },
  {
   "cell_type": "code",
   "execution_count": 1,
   "metadata": {},
   "outputs": [],
   "source": [
    "import torch"
   ]
  },
  {
   "cell_type": "markdown",
   "metadata": {},
   "source": [
    "## First approach"
   ]
  },
  {
   "cell_type": "markdown",
   "metadata": {},
   "source": [
    "We begin by loading in all the names from the text file:"
   ]
  },
  {
   "cell_type": "code",
   "execution_count": 2,
   "metadata": {},
   "outputs": [],
   "source": [
    "words = open('names_dataset.txt', 'r').read().splitlines()"
   ]
  },
  {
   "cell_type": "markdown",
   "metadata": {},
   "source": [
    "A peak at some names"
   ]
  },
  {
   "cell_type": "code",
   "execution_count": 3,
   "metadata": {},
   "outputs": [
    {
     "data": {
      "text/plain": [
       "['emma',\n",
       " 'olivia',\n",
       " 'ava',\n",
       " 'isabella',\n",
       " 'sophia',\n",
       " 'charlotte',\n",
       " 'mia',\n",
       " 'amelia',\n",
       " 'harper',\n",
       " 'evelyn']"
      ]
     },
     "execution_count": 3,
     "metadata": {},
     "output_type": "execute_result"
    }
   ],
   "source": [
    "words[0:10]"
   ]
  },
  {
   "cell_type": "markdown",
   "metadata": {},
   "source": [
    "Splitting up the Dataset into a Train and Test split. 80/20"
   ]
  },
  {
   "cell_type": "code",
   "execution_count": 57,
   "metadata": {},
   "outputs": [
    {
     "name": "stdout",
     "output_type": "stream",
     "text": [
      "Number of Training Names: 25626\n",
      "Number of Validation Names: 3203\n",
      "Number of Testing Names: 3204\n"
     ]
    }
   ],
   "source": [
    "from sklearn.model_selection import train_test_split\n",
    "\n",
    "# Split the data\n",
    "train_names, temp_names = train_test_split(words, test_size=0.2, random_state=42)  # 20% for testing\n",
    "val_names, test_names = train_test_split(temp_names, test_size=0.5, random_state=42)  # 20% for testing\n",
    "\n",
    "print(\"Number of Training Names:\", len(train_names))\n",
    "print(\"Number of Validation Names:\", len(val_names))\n",
    "print(\"Number of Testing Names:\", len(test_names))\n",
    "\n"
   ]
  },
  {
   "cell_type": "markdown",
   "metadata": {},
   "source": [
    "Initializing the matrix that will hold the counts for future characters,\n",
    "please observe that we need 256 rows because for 27 characters the possible\n",
    "permutations of 2 characters following each other is 27^2 = 27 * 27 = 729.\n",
    "But I will actually use 729 - 27 = 720 rows because I will ignore all entries\n",
    "that has the * character as the last because if that has happened the model has already stopped producing output."
   ]
  },
  {
   "cell_type": "code",
   "execution_count": 36,
   "metadata": {},
   "outputs": [
    {
     "data": {
      "text/plain": [
       "torch.Size([702, 27])"
      ]
     },
     "execution_count": 36,
     "metadata": {},
     "output_type": "execute_result"
    }
   ],
   "source": [
    "# Every row in this matrix will eventually be filled with the prob-distribution of the next characters given two particular preceeding characters\n",
    "N = torch.zeros((702, 27), dtype=torch.int32)\n",
    "N.shape"
   ]
  },
  {
   "cell_type": "markdown",
   "metadata": {},
   "source": [
    "Creating two mappings between integers and characters so I can represent every characters with an integer in computations"
   ]
  },
  {
   "cell_type": "code",
   "execution_count": 37,
   "metadata": {},
   "outputs": [
    {
     "data": {
      "text/plain": [
       "{0: '*',\n",
       " 1: 'a',\n",
       " 2: 'b',\n",
       " 3: 'c',\n",
       " 4: 'd',\n",
       " 5: 'e',\n",
       " 6: 'f',\n",
       " 7: 'g',\n",
       " 8: 'h',\n",
       " 9: 'i',\n",
       " 10: 'j',\n",
       " 11: 'k',\n",
       " 12: 'l',\n",
       " 13: 'm',\n",
       " 14: 'n',\n",
       " 15: 'o',\n",
       " 16: 'p',\n",
       " 17: 'q',\n",
       " 18: 'r',\n",
       " 19: 's',\n",
       " 20: 't',\n",
       " 21: 'u',\n",
       " 22: 'v',\n",
       " 23: 'w',\n",
       " 24: 'x',\n",
       " 25: 'y',\n",
       " 26: 'z'}"
      ]
     },
     "execution_count": 37,
     "metadata": {},
     "output_type": "execute_result"
    }
   ],
   "source": [
    "chars = sorted(list(set(''.join(words))))\n",
    "chars.insert(0, '*')\n",
    "stoi = {s:i for i, s in enumerate(chars)}\n",
    "itos = {i:s for s,i in stoi.items()}\n",
    "stoi\n",
    "itos"
   ]
  },
  {
   "cell_type": "markdown",
   "metadata": {},
   "source": [
    "Creating two mappings between pairs of characters and Integers. \n",
    "Ignoring all entries that end with *, because if that happens the model has already stopped producing output."
   ]
  },
  {
   "cell_type": "code",
   "execution_count": 38,
   "metadata": {},
   "outputs": [],
   "source": [
    "chars = sorted(list(set(''.join(words))))\n",
    "chars.insert(0, '*')\n",
    "\n",
    "twochars = []\n",
    "for char1 in chars:\n",
    "    for char2 in chars:\n",
    "        if char2 != '*':\n",
    "            twochars.append(f'{char1}{char2}')\n",
    "\n",
    "doublettoi = {s:i for i, s in enumerate(twochars)}\n",
    "itodoublet = {i:s for s,i in doublettoi.items()}\n"
   ]
  },
  {
   "cell_type": "markdown",
   "metadata": {},
   "source": [
    "Time to populate our matrix with counts of future characters!\n",
    "I will use * to signal beginning and end of string. This will also be treated as a character."
   ]
  },
  {
   "cell_type": "code",
   "execution_count": 39,
   "metadata": {},
   "outputs": [],
   "source": [
    "for w in train_names:\n",
    "    chs = ['*'] + list(w) + ['*']\n",
    "    for i in range(len(chs) - 2):\n",
    "        doublet = chs[i] + chs[i + 1]\n",
    "        ch2 = chs[i + 2]\n",
    "        ix1 = doublettoi[doublet]\n",
    "        ix2 = stoi[ch2]\n",
    "        # print(f\"{doublet}, {ch2}\")\n",
    "        N[ix1, ix2] += 1\n"
   ]
  },
  {
   "cell_type": "markdown",
   "metadata": {},
   "source": [
    "Small regularization to N:"
   ]
  },
  {
   "cell_type": "code",
   "execution_count": 40,
   "metadata": {},
   "outputs": [],
   "source": [
    "# Adding a tiny bit of smoothing to N so we dont get any zero-probabilities:\n",
    "N += 1"
   ]
  },
  {
   "cell_type": "markdown",
   "metadata": {},
   "source": [
    "This code will visualize our matrix that holds the counts. Darker blue indicates more instances and white indicates no instances.\n",
    "Beware that the matrix plot is very long since we have so many permutations of two characters."
   ]
  },
  {
   "cell_type": "code",
   "execution_count": null,
   "metadata": {},
   "outputs": [],
   "source": [
    "import matplotlib.pyplot as plt\n",
    "%matplotlib inline\n",
    "\n",
    "plt.figure(figsize=(16, 420))\n",
    "plt.imshow(N, cmap='Blues')\n",
    "for i in range(702):\n",
    "    for j in range(27):\n",
    "        chstr = itodoublet[i] + ' ' + itos[j]\n",
    "        plt.text(j, i, chstr, ha='center', va='bottom', color='gray')\n",
    "        plt.text(j, i, N[i, j].item(), ha='center', va='top', color='gray')\n",
    "plt.axis('off')"
   ]
  },
  {
   "cell_type": "markdown",
   "metadata": {},
   "source": [
    "Now we will convert this Count Matrix to a Probability Matrix:"
   ]
  },
  {
   "cell_type": "code",
   "execution_count": 41,
   "metadata": {},
   "outputs": [
    {
     "data": {
      "text/plain": [
       "torch.Size([702, 27])"
      ]
     },
     "execution_count": 41,
     "metadata": {},
     "output_type": "execute_result"
    }
   ],
   "source": [
    "P = (N).float()\n",
    "P.shape"
   ]
  },
  {
   "cell_type": "markdown",
   "metadata": {},
   "source": [
    "Time to convert the Count-Matrix to a probability-Matrix. Now every row will contain a probability distribution based on the counts of that row."
   ]
  },
  {
   "cell_type": "code",
   "execution_count": 42,
   "metadata": {},
   "outputs": [],
   "source": [
    "P /= P.sum(1, keepdim=True)"
   ]
  },
  {
   "cell_type": "markdown",
   "metadata": {},
   "source": [
    "This code will visualize the probabilites for the next character given the previous two characters. Please beware that this matrix is very long so after you've had a look at the matrix maybe clear the ouput so you don't have to scroll a lot."
   ]
  },
  {
   "cell_type": "code",
   "execution_count": null,
   "metadata": {},
   "outputs": [],
   "source": [
    "\n",
    "\n",
    "import matplotlib.pyplot as plt\n",
    "%matplotlib inline\n",
    "\n",
    "plt.figure(figsize=(16, 420))\n",
    "plt.imshow(P, cmap='Blues')\n",
    "for i in range(702):\n",
    "    for j in range(27):\n",
    "        chstr = itodoublet[i] + ' ' + itos[j]\n",
    "        plt.text(j, i, chstr, ha='center', va='bottom', color='gray')\n",
    "        plt.text(j, i, \"{:.3f}\".format(P[i, j].item()), ha='center', va='top', color='gray')\n",
    "plt.axis('off')"
   ]
  },
  {
   "cell_type": "markdown",
   "metadata": {},
   "source": [
    "Before I will generate names I will find the probability distribution of the first character in all the names. This is because for our Trigram model to be able to start generating outputs we need two input characters. We only have '*' in the beginning so we need a first character also. We can generate a random first character but this will produce far more unnatural names rather than if we sample from the true distribution of the first characters in our dataset. Therefore we perform the following step: "
   ]
  },
  {
   "cell_type": "code",
   "execution_count": 58,
   "metadata": {},
   "outputs": [],
   "source": [
    "names = train_names\n",
    "\n",
    "# Initializing a dictionary\n",
    "first_char_counts = {}\n",
    "\n",
    "# Counting each first character\n",
    "for name in names:\n",
    "    if name:\n",
    "        first_char = name[0].lower()\n",
    "        if first_char in first_char_counts:\n",
    "            first_char_counts[first_char] += 1\n",
    "        else:\n",
    "            first_char_counts[first_char] = 1\n",
    "\n",
    "# Converting counts to probabilities\n",
    "total_names = len(names)\n",
    "first_char_probabilities = {char: count / total_names for char, count in first_char_counts.items()}\n",
    "\n",
    "# Plucking out the probabilities for each character\n",
    "sorted_probs = sorted(first_char_probabilities.items())  \n",
    "prob_values = [prob for char, prob in sorted_probs]  \n",
    "\n",
    "# Converting to a PyTorch tensor\n",
    "first_character_probs = torch.tensor(prob_values, dtype=torch.float32)"
   ]
  },
  {
   "cell_type": "markdown",
   "metadata": {},
   "source": [
    "Now we can sample from P to get the next character until we get *, in that case we stop generating and we break."
   ]
  },
  {
   "cell_type": "code",
   "execution_count": 48,
   "metadata": {},
   "outputs": [
    {
     "name": "stdout",
     "output_type": "stream",
     "text": [
      "Name:  nueth\n",
      "Name:  lesaillindynklyn\n",
      "Name:  cam\n",
      "Name:  od\n",
      "Name:  xnnia\n",
      "Name:  bana\n",
      "Name:  imalanna\n",
      "Name:  im\n",
      "Name:  nin\n",
      "Name:  azion\n",
      "Name:  quin\n",
      "Name:  gre\n",
      "Name:  here\n",
      "Name:  jayana\n",
      "Name:  vis\n",
      "Name:  rannogpjxjeryah\n",
      "Name:  rayk\n",
      "Name:  ceovfrbah\n",
      "Name:  youray\n",
      "Name:  q\n",
      "Name:  kasha\n",
      "Name:  iva\n",
      "Name:  bentrukwu\n",
      "Name:  iys\n",
      "Name:  caironna\n",
      "Name:  grosabiq\n",
      "Name:  rumalie\n",
      "Name:  jan\n",
      "Name:  jerne\n",
      "Name:  vannia\n",
      "Name:  lan\n",
      "Name:  ylendanni\n",
      "Name:  chajay\n",
      "Name:  hud\n",
      "Name:  ivedsynnjaziesminluwen\n",
      "Name:  gra\n",
      "Name:  inglekileelyn\n",
      "Name:  is\n",
      "Name:  um\n",
      "Name:  gian\n",
      "Name:  em\n",
      "Name:  stcjldmzbres\n",
      "Name:  ka\n",
      "Name:  selie\n",
      "Name:  kencmla\n",
      "Name:  aydne\n"
     ]
    }
   ],
   "source": [
    "# We can generate 20 names for example:\n",
    "\n",
    "g = torch.Generator().manual_seed(423283494)\n",
    "\n",
    "for i in range(50):\n",
    "    out = []\n",
    "\n",
    "    # Sampling the first character:\n",
    "    first_char = torch.multinomial(first_character_probs, num_samples=1)\n",
    "    first_char = itos[first_char.item()]\n",
    "    if first_char == '*':\n",
    "        continue\n",
    "    first_doublet = f'*{first_char}'\n",
    "    first_doublet_index = torch.tensor(doublettoi[first_doublet])\n",
    "    out.append(first_char)\n",
    "    first_doublet = f'*{first_char}'\n",
    "\n",
    "    ix = doublettoi[first_doublet]\n",
    "    \n",
    "    while True:\n",
    "\n",
    "        # Pluck out the probability distribution for the next character\n",
    "        p = P[ix]\n",
    "\n",
    "        #print('ix: ', ix)\n",
    "        #print('current input doublet: ', itodoublet[ix])\n",
    "        # Sampling\n",
    "        next_char_ix = torch.multinomial(p, num_samples=1, replacement=True, generator=g).item()\n",
    "\n",
    "        #print('next char ix: ', next_char_ix)\n",
    "        if next_char_ix == 0:\n",
    "            break\n",
    "        #print('Adding to out: ', itos[next_char_ix])\n",
    "        out.append(itos[next_char_ix])\n",
    "        next_doublet = ''.join(out[-2:])\n",
    "        #print('next_doublet: ', next_doublet)\n",
    "\n",
    "        ix = doublettoi[next_doublet]\n",
    "\n",
    "    print('Name: ', ''.join(out))"
   ]
  },
  {
   "cell_type": "markdown",
   "metadata": {},
   "source": [
    "Let's evaluate our Trigram model on our test-set and see what our Negative Log-likehihood is. We want this value (loss) to be as low as possible. A value of zero indicates that our model is 100% confident about every character in every word showing up when they actually do. In other words it would be able to perfectly predict the names in our dataset. This can't happen in practice but in theory that is kind of what we aim for."
   ]
  },
  {
   "cell_type": "code",
   "execution_count": 49,
   "metadata": {},
   "outputs": [
    {
     "name": "stdout",
     "output_type": "stream",
     "text": [
      "Log Likelihood is: -41790.421875\n",
      "Negative Log Likelihood is: 41790.421875\n",
      "Average Negative Log Likelihood is: 2.136197090148926\n"
     ]
    }
   ],
   "source": [
    "import torch.nn.functional as F\n",
    "\n",
    "\n",
    "log_likelihood = 0.0\n",
    "\n",
    "cross_entropy_loss = 0.0\n",
    "\n",
    "count = 0\n",
    "\n",
    "for w in test_names:\n",
    "    chs = ['*'] + list(w) + ['*']\n",
    "    for i in range(len(chs) - 2):\n",
    "        doublet = chs[i] + chs[i + 1]\n",
    "        ch2 = chs[i + 2]\n",
    "        ix1 = doublettoi[doublet]\n",
    "        ix2 = stoi[ch2]\n",
    "\n",
    "        # Used for Calculating The Log-Likelihood Loss:\n",
    "        prob = P[ix1, ix2]\n",
    "        logprob = torch.log(prob)\n",
    "        log_likelihood += logprob\n",
    "        \n",
    "        count += 1\n",
    "\n",
    "\n",
    "print(f\"Log Likelihood is: {log_likelihood}\")\n",
    "nll = -log_likelihood\n",
    "print(f\"Negative Log Likelihood is: {nll}\")\n",
    "mean_nll = nll/count\n",
    "print(f\"Average Negative Log Likelihood is: {mean_nll}\")"
   ]
  },
  {
   "cell_type": "markdown",
   "metadata": {},
   "source": [
    "So the loss we achieve on the first approach using a probability matrix is roughly 2.126."
   ]
  },
  {
   "cell_type": "markdown",
   "metadata": {},
   "source": [
    "Now we will do the same thing but with a Neural Net instead:"
   ]
  },
  {
   "cell_type": "code",
   "execution_count": 60,
   "metadata": {},
   "outputs": [
    {
     "name": "stdout",
     "output_type": "stream",
     "text": [
      "Number of examples:  156871\n"
     ]
    },
    {
     "data": {
      "text/plain": [
       "(tensor([  8, 247, 367,  ..., 472, 141, 323]),\n",
       " tensor([14,  4,  9,  ..., 12, 12,  0]))"
      ]
     },
     "execution_count": 60,
     "metadata": {},
     "output_type": "execute_result"
    }
   ],
   "source": [
    "# Creating a Neural Net to solve the same task:\n",
    "\n",
    "# Creating the Train Dataset:\n",
    "\n",
    "xs, ys = [], []\n",
    "\n",
    "for w in train_names:\n",
    "    chs = ['*'] + list(w) + ['*']\n",
    "    for i in range(len(chs) - 2):\n",
    "        doublet = chs[i] + chs[i + 1]\n",
    "        ch2 = chs[i + 2]\n",
    "        ix1 = doublettoi[doublet]\n",
    "        ix2 = stoi[ch2]\n",
    "        xs.append(ix1)\n",
    "        ys.append(ix2)\n",
    "\n",
    "xs = torch.tensor(xs)\n",
    "ys = torch.tensor(ys)\n",
    "\n",
    "num_examples = xs.nelement()\n",
    "print('Number of examples: ', num_examples)\n",
    "xs, ys"
   ]
  },
  {
   "cell_type": "markdown",
   "metadata": {},
   "source": [
    "Our Neurons will each receive 702 inputs and we will have 27 neurons in total producing an output with dim 1 x 27. We will interpret these outputs as a probability distribution over the next character given an input of a two-character string."
   ]
  },
  {
   "cell_type": "code",
   "execution_count": 114,
   "metadata": {},
   "outputs": [],
   "source": [
    "# Initializing the Neural Network:\n",
    "\n",
    "g = torch.Generator().manual_seed(2147483647)\n",
    "W = torch.randn((27, 702), generator=g, requires_grad=True)"
   ]
  },
  {
   "cell_type": "markdown",
   "metadata": {},
   "source": [
    "This is the code that will process inputs with our neural net, calculate the loss, from the loss calculate the gradients and from the gradient update the weights in our Neural Net properly. \n",
    "\n",
    "In the beginning I used one-hot encoding to encode my inputs to the Neural Net but later realized that that was equivalent to just plucking out a column from the matrix because every column of the weight matrix contains a certain probability ditribution for the next character given a certain input doublet."
   ]
  },
  {
   "cell_type": "code",
   "execution_count": 138,
   "metadata": {},
   "outputs": [
    {
     "name": "stdout",
     "output_type": "stream",
     "text": [
      "156871\n",
      "2.504340171813965\n",
      "2.498588800430298\n",
      "2.4930167198181152\n",
      "2.4876153469085693\n",
      "2.4823765754699707\n",
      "2.4772934913635254\n",
      "2.4723575115203857\n",
      "2.4675631523132324\n",
      "2.4629037380218506\n",
      "2.458373785018921\n",
      "2.4539668560028076\n",
      "2.4496774673461914\n",
      "2.4455013275146484\n",
      "2.4414334297180176\n",
      "2.437469959259033\n",
      "2.433605670928955\n",
      "2.429837226867676\n",
      "2.426161766052246\n",
      "2.422574281692505\n",
      "2.419071674346924\n",
      "2.415651321411133\n",
      "2.412309169769287\n",
      "2.409043073654175\n",
      "2.4058499336242676\n",
      "2.4027271270751953\n",
      "2.3996732234954834\n",
      "2.396684169769287\n",
      "2.3937597274780273\n",
      "2.3908963203430176\n",
      "2.3880927562713623\n",
      "2.3853468894958496\n",
      "2.3826558589935303\n",
      "2.380019426345825\n",
      "2.377434730529785\n",
      "2.3749008178710938\n",
      "2.372415542602539\n",
      "2.369978427886963\n",
      "2.3675875663757324\n",
      "2.365241527557373\n",
      "2.3629395961761475\n",
      "2.360680103302002\n",
      "2.358461618423462\n",
      "2.3562824726104736\n",
      "2.354142427444458\n",
      "2.3520400524139404\n",
      "2.3499741554260254\n",
      "2.3479442596435547\n",
      "2.345949411392212\n",
      "2.3439879417419434\n",
      "2.342060089111328\n",
      "2.3401639461517334\n",
      "2.338299512863159\n",
      "2.336465358734131\n",
      "2.3346610069274902\n",
      "2.332885980606079\n",
      "2.331138849258423\n",
      "2.3294200897216797\n",
      "2.327728033065796\n",
      "2.3260629177093506\n",
      "2.3244235515594482\n",
      "2.3228096961975098\n",
      "2.3212196826934814\n",
      "2.3196537494659424\n",
      "2.3181114196777344\n",
      "2.316591739654541\n",
      "2.315094470977783\n",
      "2.313619375228882\n",
      "2.3121654987335205\n",
      "2.310732841491699\n",
      "2.3093199729919434\n",
      "2.307927370071411\n",
      "2.306554079055786\n",
      "2.30519962310791\n",
      "2.303864002227783\n",
      "2.302546739578247\n",
      "2.3012468814849854\n",
      "2.2999649047851562\n",
      "2.2986998558044434\n",
      "2.297452211380005\n",
      "2.2962207794189453\n",
      "2.2950050830841064\n",
      "2.2938058376312256\n",
      "2.2926220893859863\n",
      "2.2914528846740723\n",
      "2.2902991771698\n",
      "2.2891597747802734\n",
      "2.288034200668335\n",
      "2.286923408508301\n",
      "2.2858262062072754\n",
      "2.2847423553466797\n",
      "2.2836720943450928\n",
      "2.282614231109619\n",
      "2.281569242477417\n",
      "2.2805368900299072\n",
      "2.2795169353485107\n",
      "2.2785091400146484\n",
      "2.277513265609741\n",
      "2.276529312133789\n",
      "2.2755563259124756\n",
      "2.27459454536438\n",
      "2.273643732070923\n",
      "2.2727041244506836\n",
      "2.2717747688293457\n",
      "2.270855665206909\n",
      "2.269947052001953\n",
      "2.2690484523773193\n",
      "2.2681596279144287\n",
      "2.2672805786132812\n",
      "2.266411304473877\n",
      "2.2655513286590576\n",
      "2.2647006511688232\n",
      "2.2638590335845947\n",
      "2.2630269527435303\n",
      "2.2622036933898926\n",
      "2.2613887786865234\n",
      "2.26058292388916\n",
      "2.2597854137420654\n",
      "2.258995771408081\n",
      "2.2582144737243652\n",
      "2.257441282272339\n",
      "2.256675958633423\n",
      "2.255918502807617\n",
      "2.255168914794922\n",
      "2.2544267177581787\n",
      "2.2536916732788086\n",
      "2.2529642581939697\n",
      "2.252243995666504\n",
      "2.251530408859253\n",
      "2.250824213027954\n",
      "2.250124931335449\n",
      "2.249432325363159\n",
      "2.248746395111084\n",
      "2.2480671405792236\n",
      "2.247394323348999\n",
      "2.246727705001831\n",
      "2.246067523956299\n",
      "2.245413303375244\n",
      "2.244765520095825\n",
      "2.244123697280884\n",
      "2.24348783493042\n",
      "2.2428576946258545\n",
      "2.2422335147857666\n",
      "2.241614818572998\n",
      "2.241002321243286\n",
      "2.2403945922851562\n",
      "2.239793062210083\n",
      "2.239196538925171\n",
      "2.2386057376861572\n",
      "2.2380199432373047\n",
      "2.2374393939971924\n",
      "2.236863851547241\n",
      "2.236293077468872\n",
      "2.235727310180664\n",
      "2.2351667881011963\n",
      "2.2346107959747314\n",
      "2.2340595722198486\n",
      "2.233513593673706\n",
      "2.2329719066619873\n",
      "2.2324347496032715\n",
      "2.2319021224975586\n",
      "2.2313740253448486\n",
      "2.2308504581451416\n",
      "2.2303311824798584\n",
      "2.229816198348999\n",
      "2.2293057441711426\n",
      "2.2287988662719727\n",
      "2.2282967567443848\n",
      "2.2277987003326416\n",
      "2.227304220199585\n",
      "2.226814031600952\n",
      "2.2263283729553223\n",
      "2.2258460521698\n",
      "2.225367546081543\n",
      "2.2248928546905518\n",
      "2.2244224548339844\n",
      "2.2239553928375244\n",
      "2.223492383956909\n",
      "2.2230327129364014\n",
      "2.22257661819458\n",
      "2.2221240997314453\n",
      "2.221675395965576\n",
      "2.2212297916412354\n",
      "2.220787763595581\n",
      "2.2203495502471924\n",
      "2.219914674758911\n",
      "2.219482660293579\n",
      "2.2190542221069336\n",
      "2.2186291217803955\n",
      "2.2182071208953857\n",
      "2.217787981033325\n",
      "2.217372417449951\n",
      "2.2169599533081055\n",
      "2.21655011177063\n",
      "2.216143846511841\n",
      "2.2157399654388428\n",
      "2.215339422225952\n",
      "2.2149417400360107\n",
      "2.2145469188690186\n",
      "2.2141547203063965\n",
      "2.2137653827667236\n",
      "2.213379144668579\n",
      "2.2129955291748047\n",
      "2.2126147747039795\n",
      "2.212236166000366\n",
      "2.2118608951568604\n",
      "2.2114880084991455\n",
      "2.211117744445801\n",
      "2.210750102996826\n",
      "2.21038556098938\n",
      "2.2100231647491455\n",
      "2.209663152694702\n",
      "2.209306001663208\n",
      "2.208951234817505\n",
      "2.208599328994751\n",
      "2.20824933052063\n",
      "2.207901954650879\n",
      "2.207556962966919\n",
      "2.20721435546875\n",
      "2.206873893737793\n",
      "2.206536293029785\n",
      "2.206200361251831\n",
      "2.205866813659668\n",
      "2.205535888671875\n",
      "2.205206871032715\n",
      "2.2048799991607666\n",
      "2.2045557498931885\n",
      "2.204233169555664\n",
      "2.2039129734039307\n",
      "2.203594923019409\n",
      "2.2032787799835205\n",
      "2.2029647827148438\n",
      "2.2026526927948\n",
      "2.202342987060547\n",
      "2.2020347118377686\n",
      "2.2017288208007812\n",
      "2.2014248371124268\n",
      "2.201122999191284\n",
      "2.2008228302001953\n",
      "2.2005245685577393\n",
      "2.200228214263916\n",
      "2.1999340057373047\n",
      "2.199641704559326\n",
      "2.1993510723114014\n",
      "2.1990623474121094\n",
      "2.19877552986145\n",
      "2.1984901428222656\n",
      "2.198206901550293\n",
      "2.197925329208374\n",
      "2.197645425796509\n",
      "2.197366714477539\n",
      "2.1970908641815186\n",
      "2.1968159675598145\n",
      "2.196542978286743\n",
      "2.1962718963623047\n",
      "2.196002244949341\n",
      "2.1957345008850098\n",
      "2.195467948913574\n",
      "2.1952035427093506\n",
      "2.1949403285980225\n",
      "2.194679021835327\n",
      "2.1944186687469482\n",
      "2.1941604614257812\n",
      "2.193903684616089\n",
      "2.193648099899292\n",
      "2.193394660949707\n",
      "2.1931424140930176\n",
      "2.1928915977478027\n",
      "2.1926419734954834\n",
      "2.192394495010376\n",
      "2.192147731781006\n",
      "2.1919028759002686\n",
      "2.191659450531006\n",
      "2.1914172172546387\n",
      "2.1911768913269043\n",
      "2.1909372806549072\n",
      "2.190699577331543\n",
      "2.190462589263916\n",
      "2.190227508544922\n",
      "2.1899936199188232\n",
      "2.18976092338562\n",
      "2.1895298957824707\n",
      "2.1892998218536377\n",
      "2.1890709400177\n",
      "2.1888434886932373\n",
      "2.188617467880249\n",
      "2.1883926391601562\n",
      "2.188169002532959\n",
      "2.1879467964172363\n",
      "2.18772554397583\n",
      "2.1875057220458984\n",
      "2.187286853790283\n",
      "2.1870694160461426\n",
      "2.1868534088134766\n",
      "2.186638355255127\n",
      "2.186424493789673\n",
      "2.1862118244171143\n",
      "2.186000347137451\n",
      "2.1857900619506836\n",
      "2.1855812072753906\n",
      "2.185373067855835\n"
     ]
    }
   ],
   "source": [
    "# Performing Gradient Descent to improve the performance of the Network:\n",
    "num_examples = xs.nelement()\n",
    "print(num_examples)\n",
    "\n",
    "for k in range(300):\n",
    "\n",
    "    # Forward pass\n",
    "\n",
    "    # I originally started with this method for encoding inputs that could be fed into the weight matrix.\n",
    "    # However I realized that that was equal to plucking out a specific column from the weight matrix directly.\n",
    "    # We encode our input with the one-hot encoding, creating a tensor that is filled with 701 zeros and 1 one to signal which of the possible\n",
    "    # 702 input combinations is currently being fed to the network.\n",
    "    # xenc = F.one_hot(xs_val, num_classes=702).float()\n",
    "    \n",
    "    logits = W[:, xs].T # Logits prediction\n",
    "    counts = logits.exp() # Now we only have positive counts\n",
    "    probs = counts / counts.sum(1, keepdim=True) # Now we have the probabilities outputted from the Neural Net for next character\n",
    "    # Also adding a regularization term to the loss to prevent overfitting the train set:\n",
    "    hyperparam_scalar = 0.05\n",
    "    loss = -probs[torch.arange(num_examples), ys].log().mean() + hyperparam_scalar*abs(W).mean() # The loss we use here is the Negative Log-likelihood Loss\n",
    "    print(loss.item())\n",
    "\n",
    "    # Backward pass\n",
    "    W.grad = None # Set to zero the gradient\n",
    "    loss.backward()\n",
    "\n",
    "    # Update\n",
    "    W.data += -80 * W.grad\n",
    "\n"
   ]
  },
  {
   "cell_type": "markdown",
   "metadata": {},
   "source": [
    "I am going to evaluate the loss on the test set to decide what value of the hyperparameter is best when we train the network. We want it to generalize well of course."
   ]
  },
  {
   "cell_type": "code",
   "execution_count": 67,
   "metadata": {},
   "outputs": [
    {
     "name": "stdout",
     "output_type": "stream",
     "text": [
      "Number of examples:  19679\n"
     ]
    }
   ],
   "source": [
    "# Creating the Val Dataset:\n",
    "\n",
    "xs_val, ys_val = [], []\n",
    "\n",
    "for w in val_names:\n",
    "    chs = ['*'] + list(w) + ['*']\n",
    "    for i in range(len(chs) - 2):\n",
    "        doublet = chs[i] + chs[i + 1]\n",
    "        ch2 = chs[i + 2]\n",
    "        ix1 = doublettoi[doublet]\n",
    "        ix2 = stoi[ch2]\n",
    "        xs_val.append(ix1)\n",
    "        ys_val.append(ix2)\n",
    "\n",
    "xs_val = torch.tensor(xs_val)\n",
    "ys_val = torch.tensor(ys_val)\n",
    "\n",
    "num_examples = xs_val.nelement()\n",
    "print('Number of examples: ', num_examples)"
   ]
  },
  {
   "cell_type": "markdown",
   "metadata": {},
   "source": [
    "Let's evaluate the loss on the validation set:"
   ]
  },
  {
   "cell_type": "code",
   "execution_count": 88,
   "metadata": {},
   "outputs": [
    {
     "name": "stdout",
     "output_type": "stream",
     "text": [
      "19679\n",
      "2.1695034503936768\n"
     ]
    }
   ],
   "source": [
    "# Performing Gradient Descent to improve the performance of the Network:\n",
    "num_examples = xs_val.nelement()\n",
    "print(num_examples)\n",
    "\n",
    "logits = W[:, xs_val].T\n",
    "counts = logits.exp() # Now we only have positive counts\n",
    "probs = counts / counts.sum(1, keepdim=True) # Now we have the probabilities outputted from the Neural Net for next character\n",
    "loss = -probs[torch.arange(num_examples), ys_val].log().mean() # The loss we use here is the Negative Log-likelihood Loss\n",
    "print(loss.item())"
   ]
  },
  {
   "cell_type": "markdown",
   "metadata": {},
   "source": [
    "After a couple hyperparameter trials I decided on 0.05 for the hyperparameter scalar. That seemed like a good value."
   ]
  },
  {
   "cell_type": "markdown",
   "metadata": {},
   "source": [
    "Now let's evaluate the Neural Network on the Test-set:"
   ]
  },
  {
   "cell_type": "code",
   "execution_count": 77,
   "metadata": {},
   "outputs": [
    {
     "name": "stdout",
     "output_type": "stream",
     "text": [
      "Number of examples:  19563\n"
     ]
    }
   ],
   "source": [
    "# Creating the Test Dataset:\n",
    "\n",
    "xs_test, ys_test = [], []\n",
    "\n",
    "for w in test_names:\n",
    "    chs = ['*'] + list(w) + ['*']\n",
    "    for i in range(len(chs) - 2):\n",
    "        doublet = chs[i] + chs[i + 1]\n",
    "        ch2 = chs[i + 2]\n",
    "        ix1 = doublettoi[doublet]\n",
    "        ix2 = stoi[ch2]\n",
    "        xs_test.append(ix1)\n",
    "        ys_test.append(ix2)\n",
    "\n",
    "xs_test = torch.tensor(xs_test)\n",
    "ys_test = torch.tensor(ys_test)\n",
    "\n",
    "num_examples = xs_test.nelement()\n",
    "print('Number of examples: ', num_examples)"
   ]
  },
  {
   "cell_type": "code",
   "execution_count": 143,
   "metadata": {},
   "outputs": [
    {
     "name": "stdout",
     "output_type": "stream",
     "text": [
      "19563\n",
      "Negative Log-Likelihood Loss  2.1820690631866455\n",
      "Cross Entropy Loss:  2.2577147483825684\n"
     ]
    }
   ],
   "source": [
    "import torch.nn.functional as F\n",
    "\n",
    "# Performing Gradient Descent to improve the performance of the Network:\n",
    "num_examples = xs_test.nelement()\n",
    "print(num_examples)\n",
    "\n",
    "logits = W[:, xs_test].T # Logits prediction\n",
    "counts = logits.exp() # Now we only have positive counts\n",
    "probs = counts / counts.sum(1, keepdim=True) # Now we have the probabilities outputted from the Neural Net for next character\n",
    "loss = -probs[torch.arange(num_examples), ys_test].log().mean() # The loss we use here is the Negative Log-likelihood Loss\n",
    "\n",
    "# Also Calculating the Cross-Entropy Loss for fun\n",
    "# I will treat the probabilities from the probability matrix P as the true distribution of future characters.\n",
    "# The cross_entropy loss function in pytorch takes in logits in the inputs arguments instead of probabilities so we can \n",
    "# send our logits directly in into the function.\n",
    "CE_loss = F.cross_entropy(logits, P[xs_test, :])\n",
    "\n",
    "print(\"Negative Log-Likelihood Loss \", loss.item())\n",
    "print(\"Cross Entropy Loss: \", CE_loss.item())"
   ]
  },
  {
   "cell_type": "markdown",
   "metadata": {},
   "source": [
    "If you run the training code for a couple of times you can actually achieve lower loss on the test-set than approach 1. This is actually really interesting and I dont know quite why at this point. I did not think that this was possible actually. But my best loss for approach 1 was: 2.156 and loss for approach 2 was: 2.152."
   ]
  },
  {
   "cell_type": "markdown",
   "metadata": {},
   "source": [
    "Now we can simulate some names with approach 2 as well:"
   ]
  },
  {
   "cell_type": "code",
   "execution_count": 92,
   "metadata": {},
   "outputs": [
    {
     "name": "stdout",
     "output_type": "stream",
     "text": [
      "kauriah\n",
      "shon\n",
      "da\n",
      "zy\n",
      "brissaniquellie\n",
      "noore\n",
      "kaymiereennesnblaimyah\n",
      "aliseri\n",
      "kaljwdhyleiggpjcni\n",
      "aidi\n",
      "mes\n",
      "fin\n",
      "ma\n",
      "zarralani\n",
      "penangzwparvpfqxafadyn\n",
      "ittejah\n",
      "ley\n",
      "cregane\n",
      "loah\n",
      "sameigh\n"
     ]
    }
   ],
   "source": [
    "for i in range(20):\n",
    "\n",
    "\n",
    "    first_char = torch.multinomial(first_character_probs, num_samples=1)\n",
    "    first_char = itos[first_char.item()+1]\n",
    "    first_doublet = f'*{first_char}'\n",
    "    first_doublet_index = torch.tensor(doublettoi[first_doublet])\n",
    "\n",
    "    start_symbol = F.one_hot(first_doublet_index, num_classes=702).float() # Inputting start symbol to the Neural Network to make it produce output characters\n",
    "    current_doublet = start_symbol\n",
    "    # Initializing current name:\n",
    "    current_word = []\n",
    "    # Adding the first randomly generated character:\n",
    "    current_word.append(first_char)\n",
    "\n",
    "    # This variable will keep track of the index of the current input doublet:\n",
    "    next_doublet_index = torch.tensor(1)\n",
    "\n",
    "    while(True):\n",
    "        logits = current_doublet @ W.T # Logits prediction\n",
    "        counts = logits.exp() # Now we only have positive counts\n",
    "        probs = counts / counts.sum(0, keepdim=True)\n",
    "        # probs = torch.ones(27) / 27 This line is for anyone curious about the difference between a Trigram and random generation\n",
    "\n",
    "        # Sampling next character index:\n",
    "        next_single_char_index = torch.multinomial(probs, num_samples=1)\n",
    "        # If it is * we have reached the end of the name\n",
    "        if next_single_char_index == 0:\n",
    "            break\n",
    "\n",
    "        # Plucking out next character from index:\n",
    "        next_char = itos[next_single_char_index.item()]\n",
    "        # Appending to current name:\n",
    "        current_word.append(next_char)\n",
    "        # Plucking out next doublet input:\n",
    "        next_doublet = current_word[-2:]\n",
    "        next_doublet = ''.join(next_doublet)\n",
    "        next_doublet_index = torch.tensor(doublettoi[next_doublet])\n",
    "        current_doublet = F.one_hot(next_doublet_index, num_classes=702).float()\n",
    "\n",
    "    # Printing the current name:\n",
    "    current_word = ''.join(current_word)\n",
    "    print(current_word)"
   ]
  },
  {
   "cell_type": "markdown",
   "metadata": {},
   "source": [
    "## That's that!\n",
    "Btw I'm really interested in business and AI.\n",
    "For any business ideas please reach out to filiplarssonnnn@gmail.com\n",
    "\n",
    "Bye!"
   ]
  }
 ],
 "metadata": {
  "kernelspec": {
   "display_name": "ml_project_env",
   "language": "python",
   "name": "ml_project_env"
  },
  "language_info": {
   "codemirror_mode": {
    "name": "ipython",
    "version": 3
   },
   "file_extension": ".py",
   "mimetype": "text/x-python",
   "name": "python",
   "nbconvert_exporter": "python",
   "pygments_lexer": "ipython3",
   "version": "3.12.3"
  }
 },
 "nbformat": 4,
 "nbformat_minor": 2
}
