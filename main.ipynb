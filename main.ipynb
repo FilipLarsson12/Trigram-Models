{
 "cells": [
  {
   "cell_type": "markdown",
   "metadata": {},
   "source": [
    "## Intro"
   ]
  },
  {
   "cell_type": "markdown",
   "metadata": {},
   "source": [
    "In this Notebook I will train and evaluate two different Trigram models.\n",
    "More precisely I will use two different approaches for creating a Trigram model.\n",
    "Approach 1 is to build a matrix that holds the true probability distribution of which character \n",
    "comes next given that the model has been given two particular preceeding characters.\n",
    "We then sample from this distribution to produce the next character in the output 'name'.\n",
    "\n",
    "The second approach is to use a Neural Net. We take in the two preceeding characters to generate the next one \n",
    "and so on. The goal is to achieve the same performance or loss using the Neural Net approach as with approach 1.\n",
    "As you will see approach 1 is the perfect approach given the loss function I will use. \n",
    "It is impossible to achieve better loss with a Neural Net approach to the Trigram model."
   ]
  },
  {
   "cell_type": "code",
   "execution_count": 12,
   "metadata": {},
   "outputs": [],
   "source": [
    "import torch"
   ]
  },
  {
   "cell_type": "markdown",
   "metadata": {},
   "source": [
    "## First approach"
   ]
  },
  {
   "cell_type": "markdown",
   "metadata": {},
   "source": [
    "We begin by loading in all the names from the text file:"
   ]
  },
  {
   "cell_type": "code",
   "execution_count": 42,
   "metadata": {},
   "outputs": [],
   "source": [
    "words = open('names_dataset.txt', 'r').read().splitlines()"
   ]
  },
  {
   "cell_type": "markdown",
   "metadata": {},
   "source": [
    "A peak at some names"
   ]
  },
  {
   "cell_type": "code",
   "execution_count": 11,
   "metadata": {},
   "outputs": [
    {
     "data": {
      "text/plain": [
       "['emma',\n",
       " 'olivia',\n",
       " 'ava',\n",
       " 'isabella',\n",
       " 'sophia',\n",
       " 'charlotte',\n",
       " 'mia',\n",
       " 'amelia',\n",
       " 'harper',\n",
       " 'evelyn']"
      ]
     },
     "execution_count": 11,
     "metadata": {},
     "output_type": "execute_result"
    }
   ],
   "source": [
    "words[0:10]"
   ]
  },
  {
   "cell_type": "markdown",
   "metadata": {},
   "source": [
    "Initializing the matrix that will hold the counts for future characters,\n",
    "please observe that we need 256 rows because for 27 characters the possible\n",
    "permutations of 2 characters following each other is 27^2 = 27 * 27 = 729.\n",
    "But I will actually use 729 - 27 = 720 rows because I will ignore all entries\n",
    "that has the * character as the last because if that has happened the model has already stopped producing output."
   ]
  },
  {
   "cell_type": "code",
   "execution_count": 30,
   "metadata": {},
   "outputs": [
    {
     "data": {
      "text/plain": [
       "torch.Size([702, 27])"
      ]
     },
     "execution_count": 30,
     "metadata": {},
     "output_type": "execute_result"
    }
   ],
   "source": [
    "# Every row in this matrix will eventually be filled with the prob-distribution of the next characters given two particular preceeding characters\n",
    "N = torch.zeros((702, 27), dtype=torch.int32)\n",
    "N.shape"
   ]
  },
  {
   "cell_type": "markdown",
   "metadata": {},
   "source": [
    "Creating two mappings between integers and characters so I can represent every characters with an integer in computations"
   ]
  },
  {
   "cell_type": "code",
   "execution_count": 43,
   "metadata": {},
   "outputs": [
    {
     "data": {
      "text/plain": [
       "{1: '*',\n",
       " 2: 'a',\n",
       " 3: 'b',\n",
       " 4: 'c',\n",
       " 5: 'd',\n",
       " 6: 'e',\n",
       " 7: 'f',\n",
       " 8: 'g',\n",
       " 9: 'h',\n",
       " 10: 'i',\n",
       " 11: 'j',\n",
       " 12: 'k',\n",
       " 13: 'l',\n",
       " 14: 'm',\n",
       " 15: 'n',\n",
       " 16: 'o',\n",
       " 17: 'p',\n",
       " 18: 'q',\n",
       " 19: 'r',\n",
       " 20: 's',\n",
       " 21: 't',\n",
       " 22: 'u',\n",
       " 23: 'v',\n",
       " 24: 'w',\n",
       " 25: 'x',\n",
       " 26: 'y',\n",
       " 27: 'z'}"
      ]
     },
     "execution_count": 43,
     "metadata": {},
     "output_type": "execute_result"
    }
   ],
   "source": [
    "chars = sorted(list(set(''.join(words))))\n",
    "chars.insert(0, '*')\n",
    "stoi = {s:i+1 for i, s in enumerate(chars)}\n",
    "itos = {i:s for s,i in stoi.items()}\n",
    "stoi\n",
    "itos"
   ]
  },
  {
   "cell_type": "markdown",
   "metadata": {},
   "source": [
    "Creating two mappings between pairs of characters and Integers. \n",
    "Ignoring all entries that end with *, because if that happens the model has already stopped producing output."
   ]
  },
  {
   "cell_type": "code",
   "execution_count": 44,
   "metadata": {},
   "outputs": [
    {
     "name": "stdout",
     "output_type": "stream",
     "text": [
      "{1: '*a', 2: '*b', 3: '*c', 4: '*d', 5: '*e', 6: '*f', 7: '*g', 8: '*h', 9: '*i', 10: '*j', 11: '*k', 12: '*l', 13: '*m', 14: '*n', 15: '*o', 16: '*p', 17: '*q', 18: '*r', 19: '*s', 20: '*t', 21: '*u', 22: '*v', 23: '*w', 24: '*x', 25: '*y', 26: '*z', 27: 'aa', 28: 'ab', 29: 'ac', 30: 'ad', 31: 'ae', 32: 'af', 33: 'ag', 34: 'ah', 35: 'ai', 36: 'aj', 37: 'ak', 38: 'al', 39: 'am', 40: 'an', 41: 'ao', 42: 'ap', 43: 'aq', 44: 'ar', 45: 'as', 46: 'at', 47: 'au', 48: 'av', 49: 'aw', 50: 'ax', 51: 'ay', 52: 'az', 53: 'ba', 54: 'bb', 55: 'bc', 56: 'bd', 57: 'be', 58: 'bf', 59: 'bg', 60: 'bh', 61: 'bi', 62: 'bj', 63: 'bk', 64: 'bl', 65: 'bm', 66: 'bn', 67: 'bo', 68: 'bp', 69: 'bq', 70: 'br', 71: 'bs', 72: 'bt', 73: 'bu', 74: 'bv', 75: 'bw', 76: 'bx', 77: 'by', 78: 'bz', 79: 'ca', 80: 'cb', 81: 'cc', 82: 'cd', 83: 'ce', 84: 'cf', 85: 'cg', 86: 'ch', 87: 'ci', 88: 'cj', 89: 'ck', 90: 'cl', 91: 'cm', 92: 'cn', 93: 'co', 94: 'cp', 95: 'cq', 96: 'cr', 97: 'cs', 98: 'ct', 99: 'cu', 100: 'cv', 101: 'cw', 102: 'cx', 103: 'cy', 104: 'cz', 105: 'da', 106: 'db', 107: 'dc', 108: 'dd', 109: 'de', 110: 'df', 111: 'dg', 112: 'dh', 113: 'di', 114: 'dj', 115: 'dk', 116: 'dl', 117: 'dm', 118: 'dn', 119: 'do', 120: 'dp', 121: 'dq', 122: 'dr', 123: 'ds', 124: 'dt', 125: 'du', 126: 'dv', 127: 'dw', 128: 'dx', 129: 'dy', 130: 'dz', 131: 'ea', 132: 'eb', 133: 'ec', 134: 'ed', 135: 'ee', 136: 'ef', 137: 'eg', 138: 'eh', 139: 'ei', 140: 'ej', 141: 'ek', 142: 'el', 143: 'em', 144: 'en', 145: 'eo', 146: 'ep', 147: 'eq', 148: 'er', 149: 'es', 150: 'et', 151: 'eu', 152: 'ev', 153: 'ew', 154: 'ex', 155: 'ey', 156: 'ez', 157: 'fa', 158: 'fb', 159: 'fc', 160: 'fd', 161: 'fe', 162: 'ff', 163: 'fg', 164: 'fh', 165: 'fi', 166: 'fj', 167: 'fk', 168: 'fl', 169: 'fm', 170: 'fn', 171: 'fo', 172: 'fp', 173: 'fq', 174: 'fr', 175: 'fs', 176: 'ft', 177: 'fu', 178: 'fv', 179: 'fw', 180: 'fx', 181: 'fy', 182: 'fz', 183: 'ga', 184: 'gb', 185: 'gc', 186: 'gd', 187: 'ge', 188: 'gf', 189: 'gg', 190: 'gh', 191: 'gi', 192: 'gj', 193: 'gk', 194: 'gl', 195: 'gm', 196: 'gn', 197: 'go', 198: 'gp', 199: 'gq', 200: 'gr', 201: 'gs', 202: 'gt', 203: 'gu', 204: 'gv', 205: 'gw', 206: 'gx', 207: 'gy', 208: 'gz', 209: 'ha', 210: 'hb', 211: 'hc', 212: 'hd', 213: 'he', 214: 'hf', 215: 'hg', 216: 'hh', 217: 'hi', 218: 'hj', 219: 'hk', 220: 'hl', 221: 'hm', 222: 'hn', 223: 'ho', 224: 'hp', 225: 'hq', 226: 'hr', 227: 'hs', 228: 'ht', 229: 'hu', 230: 'hv', 231: 'hw', 232: 'hx', 233: 'hy', 234: 'hz', 235: 'ia', 236: 'ib', 237: 'ic', 238: 'id', 239: 'ie', 240: 'if', 241: 'ig', 242: 'ih', 243: 'ii', 244: 'ij', 245: 'ik', 246: 'il', 247: 'im', 248: 'in', 249: 'io', 250: 'ip', 251: 'iq', 252: 'ir', 253: 'is', 254: 'it', 255: 'iu', 256: 'iv', 257: 'iw', 258: 'ix', 259: 'iy', 260: 'iz', 261: 'ja', 262: 'jb', 263: 'jc', 264: 'jd', 265: 'je', 266: 'jf', 267: 'jg', 268: 'jh', 269: 'ji', 270: 'jj', 271: 'jk', 272: 'jl', 273: 'jm', 274: 'jn', 275: 'jo', 276: 'jp', 277: 'jq', 278: 'jr', 279: 'js', 280: 'jt', 281: 'ju', 282: 'jv', 283: 'jw', 284: 'jx', 285: 'jy', 286: 'jz', 287: 'ka', 288: 'kb', 289: 'kc', 290: 'kd', 291: 'ke', 292: 'kf', 293: 'kg', 294: 'kh', 295: 'ki', 296: 'kj', 297: 'kk', 298: 'kl', 299: 'km', 300: 'kn', 301: 'ko', 302: 'kp', 303: 'kq', 304: 'kr', 305: 'ks', 306: 'kt', 307: 'ku', 308: 'kv', 309: 'kw', 310: 'kx', 311: 'ky', 312: 'kz', 313: 'la', 314: 'lb', 315: 'lc', 316: 'ld', 317: 'le', 318: 'lf', 319: 'lg', 320: 'lh', 321: 'li', 322: 'lj', 323: 'lk', 324: 'll', 325: 'lm', 326: 'ln', 327: 'lo', 328: 'lp', 329: 'lq', 330: 'lr', 331: 'ls', 332: 'lt', 333: 'lu', 334: 'lv', 335: 'lw', 336: 'lx', 337: 'ly', 338: 'lz', 339: 'ma', 340: 'mb', 341: 'mc', 342: 'md', 343: 'me', 344: 'mf', 345: 'mg', 346: 'mh', 347: 'mi', 348: 'mj', 349: 'mk', 350: 'ml', 351: 'mm', 352: 'mn', 353: 'mo', 354: 'mp', 355: 'mq', 356: 'mr', 357: 'ms', 358: 'mt', 359: 'mu', 360: 'mv', 361: 'mw', 362: 'mx', 363: 'my', 364: 'mz', 365: 'na', 366: 'nb', 367: 'nc', 368: 'nd', 369: 'ne', 370: 'nf', 371: 'ng', 372: 'nh', 373: 'ni', 374: 'nj', 375: 'nk', 376: 'nl', 377: 'nm', 378: 'nn', 379: 'no', 380: 'np', 381: 'nq', 382: 'nr', 383: 'ns', 384: 'nt', 385: 'nu', 386: 'nv', 387: 'nw', 388: 'nx', 389: 'ny', 390: 'nz', 391: 'oa', 392: 'ob', 393: 'oc', 394: 'od', 395: 'oe', 396: 'of', 397: 'og', 398: 'oh', 399: 'oi', 400: 'oj', 401: 'ok', 402: 'ol', 403: 'om', 404: 'on', 405: 'oo', 406: 'op', 407: 'oq', 408: 'or', 409: 'os', 410: 'ot', 411: 'ou', 412: 'ov', 413: 'ow', 414: 'ox', 415: 'oy', 416: 'oz', 417: 'pa', 418: 'pb', 419: 'pc', 420: 'pd', 421: 'pe', 422: 'pf', 423: 'pg', 424: 'ph', 425: 'pi', 426: 'pj', 427: 'pk', 428: 'pl', 429: 'pm', 430: 'pn', 431: 'po', 432: 'pp', 433: 'pq', 434: 'pr', 435: 'ps', 436: 'pt', 437: 'pu', 438: 'pv', 439: 'pw', 440: 'px', 441: 'py', 442: 'pz', 443: 'qa', 444: 'qb', 445: 'qc', 446: 'qd', 447: 'qe', 448: 'qf', 449: 'qg', 450: 'qh', 451: 'qi', 452: 'qj', 453: 'qk', 454: 'ql', 455: 'qm', 456: 'qn', 457: 'qo', 458: 'qp', 459: 'qq', 460: 'qr', 461: 'qs', 462: 'qt', 463: 'qu', 464: 'qv', 465: 'qw', 466: 'qx', 467: 'qy', 468: 'qz', 469: 'ra', 470: 'rb', 471: 'rc', 472: 'rd', 473: 're', 474: 'rf', 475: 'rg', 476: 'rh', 477: 'ri', 478: 'rj', 479: 'rk', 480: 'rl', 481: 'rm', 482: 'rn', 483: 'ro', 484: 'rp', 485: 'rq', 486: 'rr', 487: 'rs', 488: 'rt', 489: 'ru', 490: 'rv', 491: 'rw', 492: 'rx', 493: 'ry', 494: 'rz', 495: 'sa', 496: 'sb', 497: 'sc', 498: 'sd', 499: 'se', 500: 'sf', 501: 'sg', 502: 'sh', 503: 'si', 504: 'sj', 505: 'sk', 506: 'sl', 507: 'sm', 508: 'sn', 509: 'so', 510: 'sp', 511: 'sq', 512: 'sr', 513: 'ss', 514: 'st', 515: 'su', 516: 'sv', 517: 'sw', 518: 'sx', 519: 'sy', 520: 'sz', 521: 'ta', 522: 'tb', 523: 'tc', 524: 'td', 525: 'te', 526: 'tf', 527: 'tg', 528: 'th', 529: 'ti', 530: 'tj', 531: 'tk', 532: 'tl', 533: 'tm', 534: 'tn', 535: 'to', 536: 'tp', 537: 'tq', 538: 'tr', 539: 'ts', 540: 'tt', 541: 'tu', 542: 'tv', 543: 'tw', 544: 'tx', 545: 'ty', 546: 'tz', 547: 'ua', 548: 'ub', 549: 'uc', 550: 'ud', 551: 'ue', 552: 'uf', 553: 'ug', 554: 'uh', 555: 'ui', 556: 'uj', 557: 'uk', 558: 'ul', 559: 'um', 560: 'un', 561: 'uo', 562: 'up', 563: 'uq', 564: 'ur', 565: 'us', 566: 'ut', 567: 'uu', 568: 'uv', 569: 'uw', 570: 'ux', 571: 'uy', 572: 'uz', 573: 'va', 574: 'vb', 575: 'vc', 576: 'vd', 577: 've', 578: 'vf', 579: 'vg', 580: 'vh', 581: 'vi', 582: 'vj', 583: 'vk', 584: 'vl', 585: 'vm', 586: 'vn', 587: 'vo', 588: 'vp', 589: 'vq', 590: 'vr', 591: 'vs', 592: 'vt', 593: 'vu', 594: 'vv', 595: 'vw', 596: 'vx', 597: 'vy', 598: 'vz', 599: 'wa', 600: 'wb', 601: 'wc', 602: 'wd', 603: 'we', 604: 'wf', 605: 'wg', 606: 'wh', 607: 'wi', 608: 'wj', 609: 'wk', 610: 'wl', 611: 'wm', 612: 'wn', 613: 'wo', 614: 'wp', 615: 'wq', 616: 'wr', 617: 'ws', 618: 'wt', 619: 'wu', 620: 'wv', 621: 'ww', 622: 'wx', 623: 'wy', 624: 'wz', 625: 'xa', 626: 'xb', 627: 'xc', 628: 'xd', 629: 'xe', 630: 'xf', 631: 'xg', 632: 'xh', 633: 'xi', 634: 'xj', 635: 'xk', 636: 'xl', 637: 'xm', 638: 'xn', 639: 'xo', 640: 'xp', 641: 'xq', 642: 'xr', 643: 'xs', 644: 'xt', 645: 'xu', 646: 'xv', 647: 'xw', 648: 'xx', 649: 'xy', 650: 'xz', 651: 'ya', 652: 'yb', 653: 'yc', 654: 'yd', 655: 'ye', 656: 'yf', 657: 'yg', 658: 'yh', 659: 'yi', 660: 'yj', 661: 'yk', 662: 'yl', 663: 'ym', 664: 'yn', 665: 'yo', 666: 'yp', 667: 'yq', 668: 'yr', 669: 'ys', 670: 'yt', 671: 'yu', 672: 'yv', 673: 'yw', 674: 'yx', 675: 'yy', 676: 'yz', 677: 'za', 678: 'zb', 679: 'zc', 680: 'zd', 681: 'ze', 682: 'zf', 683: 'zg', 684: 'zh', 685: 'zi', 686: 'zj', 687: 'zk', 688: 'zl', 689: 'zm', 690: 'zn', 691: 'zo', 692: 'zp', 693: 'zq', 694: 'zr', 695: 'zs', 696: 'zt', 697: 'zu', 698: 'zv', 699: 'zw', 700: 'zx', 701: 'zy', 702: 'zz'}\n"
     ]
    }
   ],
   "source": [
    "chars = sorted(list(set(''.join(words))))\n",
    "chars.insert(0, '*')\n",
    "\n",
    "twochars = []\n",
    "for char1 in chars:\n",
    "    for char2 in chars:\n",
    "        if char2 != '*':\n",
    "            twochars.append(f'{char1}{char2}')\n",
    "\n",
    "doublettoi = {s:i+1 for i, s in enumerate(twochars)}\n",
    "itodoublet = {i:s for s,i in doublettoi.items()}\n",
    "print(itodoublet)\n"
   ]
  },
  {
   "cell_type": "markdown",
   "metadata": {},
   "source": [
    "Time to populate our matrix with counts of future characters!\n",
    "I will use * to signal beginning and end of string. This will also be treated as a character."
   ]
  },
  {
   "cell_type": "code",
   "execution_count": 45,
   "metadata": {},
   "outputs": [
    {
     "name": "stdout",
     "output_type": "stream",
     "text": [
      "*e, m\n",
      "em, m\n",
      "mm, a\n",
      "ma, *\n"
     ]
    }
   ],
   "source": [
    "for w in words[:1]:\n",
    "    chs = ['*'] + list(w) + ['*']\n",
    "    for i in range(len(chs) - 2):\n",
    "        doublet = chs[i] + chs[i + 1]\n",
    "        ch2 = chs[i + 2]\n",
    "        ix1 = doublettoi[doublet]\n",
    "        ix2 = stoi[ch2]\n",
    "        print(f\"{doublet}, {ch2}\")"
   ]
  },
  {
   "cell_type": "code",
   "execution_count": null,
   "metadata": {},
   "outputs": [],
   "source": []
  }
 ],
 "metadata": {
  "kernelspec": {
   "display_name": "ml_project_env",
   "language": "python",
   "name": "ml_project_env"
  },
  "language_info": {
   "codemirror_mode": {
    "name": "ipython",
    "version": 3
   },
   "file_extension": ".py",
   "mimetype": "text/x-python",
   "name": "python",
   "nbconvert_exporter": "python",
   "pygments_lexer": "ipython3",
   "version": "3.12.3"
  }
 },
 "nbformat": 4,
 "nbformat_minor": 2
}
