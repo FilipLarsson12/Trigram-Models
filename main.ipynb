{
 "cells": [
  {
   "cell_type": "markdown",
   "metadata": {},
   "source": [
    "## Intro"
   ]
  },
  {
   "cell_type": "markdown",
   "metadata": {},
   "source": [
    "In this Notebook I will train and evaluate two different Trigram models.\n",
    "More precisely I will use two different approaches for creating a Trigram model.\n",
    "Approach 1 is to build a matrix that holds the true probability distribution of which character \n",
    "comes next given that the model has been given two particular preceeding characters.\n",
    "We then sample from this distribution to produce the next character in the output 'name'.\n",
    "\n",
    "The second approach is to use a Neural Net. We take in the two preceeding characters to generate the next one \n",
    "and so on. The goal is to achieve the same performance or loss using the Neural Net approach as with approach 1.\n",
    "As you will see approach 1 is the perfect approach given the loss function I will use. \n",
    "It is impossible to achieve better loss with a Neural Net approach to the Trigram model."
   ]
  },
  {
   "cell_type": "code",
   "execution_count": 1,
   "metadata": {},
   "outputs": [],
   "source": [
    "import torch"
   ]
  },
  {
   "cell_type": "markdown",
   "metadata": {},
   "source": [
    "## First approach"
   ]
  },
  {
   "cell_type": "markdown",
   "metadata": {},
   "source": [
    "We begin by loading in all the names from the text file:"
   ]
  },
  {
   "cell_type": "code",
   "execution_count": 2,
   "metadata": {},
   "outputs": [],
   "source": [
    "words = open('names_dataset.txt', 'r').read().splitlines()"
   ]
  },
  {
   "cell_type": "markdown",
   "metadata": {},
   "source": [
    "A peak at some names"
   ]
  },
  {
   "cell_type": "code",
   "execution_count": 3,
   "metadata": {},
   "outputs": [
    {
     "data": {
      "text/plain": [
       "['emma',\n",
       " 'olivia',\n",
       " 'ava',\n",
       " 'isabella',\n",
       " 'sophia',\n",
       " 'charlotte',\n",
       " 'mia',\n",
       " 'amelia',\n",
       " 'harper',\n",
       " 'evelyn']"
      ]
     },
     "execution_count": 3,
     "metadata": {},
     "output_type": "execute_result"
    }
   ],
   "source": [
    "words[0:10]"
   ]
  },
  {
   "cell_type": "markdown",
   "metadata": {},
   "source": [
    "Splitting up the Dataset into a Train and Test split. 80/20"
   ]
  },
  {
   "cell_type": "code",
   "execution_count": 57,
   "metadata": {},
   "outputs": [
    {
     "name": "stdout",
     "output_type": "stream",
     "text": [
      "Number of Training Names: 25626\n",
      "Number of Validation Names: 3203\n",
      "Number of Testing Names: 3204\n"
     ]
    }
   ],
   "source": [
    "from sklearn.model_selection import train_test_split\n",
    "\n",
    "# Split the data\n",
    "train_names, temp_names = train_test_split(words, test_size=0.2, random_state=42)  # 20% for testing\n",
    "val_names, test_names = train_test_split(temp_names, test_size=0.5, random_state=42)  # 20% for testing\n",
    "\n",
    "print(\"Number of Training Names:\", len(train_names))\n",
    "print(\"Number of Validation Names:\", len(val_names))\n",
    "print(\"Number of Testing Names:\", len(test_names))\n",
    "\n"
   ]
  },
  {
   "cell_type": "markdown",
   "metadata": {},
   "source": [
    "Initializing the matrix that will hold the counts for future characters,\n",
    "please observe that we need 256 rows because for 27 characters the possible\n",
    "permutations of 2 characters following each other is 27^2 = 27 * 27 = 729.\n",
    "But I will actually use 729 - 27 = 720 rows because I will ignore all entries\n",
    "that has the * character as the last because if that has happened the model has already stopped producing output."
   ]
  },
  {
   "cell_type": "code",
   "execution_count": 36,
   "metadata": {},
   "outputs": [
    {
     "data": {
      "text/plain": [
       "torch.Size([702, 27])"
      ]
     },
     "execution_count": 36,
     "metadata": {},
     "output_type": "execute_result"
    }
   ],
   "source": [
    "# Every row in this matrix will eventually be filled with the prob-distribution of the next characters given two particular preceeding characters\n",
    "N = torch.zeros((702, 27), dtype=torch.int32)\n",
    "N.shape"
   ]
  },
  {
   "cell_type": "markdown",
   "metadata": {},
   "source": [
    "Creating two mappings between integers and characters so I can represent every characters with an integer in computations"
   ]
  },
  {
   "cell_type": "code",
   "execution_count": 37,
   "metadata": {},
   "outputs": [
    {
     "data": {
      "text/plain": [
       "{0: '*',\n",
       " 1: 'a',\n",
       " 2: 'b',\n",
       " 3: 'c',\n",
       " 4: 'd',\n",
       " 5: 'e',\n",
       " 6: 'f',\n",
       " 7: 'g',\n",
       " 8: 'h',\n",
       " 9: 'i',\n",
       " 10: 'j',\n",
       " 11: 'k',\n",
       " 12: 'l',\n",
       " 13: 'm',\n",
       " 14: 'n',\n",
       " 15: 'o',\n",
       " 16: 'p',\n",
       " 17: 'q',\n",
       " 18: 'r',\n",
       " 19: 's',\n",
       " 20: 't',\n",
       " 21: 'u',\n",
       " 22: 'v',\n",
       " 23: 'w',\n",
       " 24: 'x',\n",
       " 25: 'y',\n",
       " 26: 'z'}"
      ]
     },
     "execution_count": 37,
     "metadata": {},
     "output_type": "execute_result"
    }
   ],
   "source": [
    "chars = sorted(list(set(''.join(words))))\n",
    "chars.insert(0, '*')\n",
    "stoi = {s:i for i, s in enumerate(chars)}\n",
    "itos = {i:s for s,i in stoi.items()}\n",
    "stoi\n",
    "itos"
   ]
  },
  {
   "cell_type": "markdown",
   "metadata": {},
   "source": [
    "Creating two mappings between pairs of characters and Integers. \n",
    "Ignoring all entries that end with *, because if that happens the model has already stopped producing output."
   ]
  },
  {
   "cell_type": "code",
   "execution_count": 38,
   "metadata": {},
   "outputs": [],
   "source": [
    "chars = sorted(list(set(''.join(words))))\n",
    "chars.insert(0, '*')\n",
    "\n",
    "twochars = []\n",
    "for char1 in chars:\n",
    "    for char2 in chars:\n",
    "        if char2 != '*':\n",
    "            twochars.append(f'{char1}{char2}')\n",
    "\n",
    "doublettoi = {s:i for i, s in enumerate(twochars)}\n",
    "itodoublet = {i:s for s,i in doublettoi.items()}\n"
   ]
  },
  {
   "cell_type": "markdown",
   "metadata": {},
   "source": [
    "Time to populate our matrix with counts of future characters!\n",
    "I will use * to signal beginning and end of string. This will also be treated as a character."
   ]
  },
  {
   "cell_type": "code",
   "execution_count": 39,
   "metadata": {},
   "outputs": [],
   "source": [
    "for w in train_names:\n",
    "    chs = ['*'] + list(w) + ['*']\n",
    "    for i in range(len(chs) - 2):\n",
    "        doublet = chs[i] + chs[i + 1]\n",
    "        ch2 = chs[i + 2]\n",
    "        ix1 = doublettoi[doublet]\n",
    "        ix2 = stoi[ch2]\n",
    "        # print(f\"{doublet}, {ch2}\")\n",
    "        N[ix1, ix2] += 1\n"
   ]
  },
  {
   "cell_type": "markdown",
   "metadata": {},
   "source": [
    "Small regularization to N:"
   ]
  },
  {
   "cell_type": "code",
   "execution_count": 40,
   "metadata": {},
   "outputs": [],
   "source": [
    "# Adding a tiny bit of smoothing to N so we dont get any zero-probabilities:\n",
    "N += 1"
   ]
  },
  {
   "cell_type": "markdown",
   "metadata": {},
   "source": [
    "This code will visualize our matrix that holds the counts. Darker blue indicates more instances and white indicates no instances.\n",
    "Beware that the matrix plot is very long since we have so many permutations of two characters."
   ]
  },
  {
   "cell_type": "code",
   "execution_count": null,
   "metadata": {},
   "outputs": [],
   "source": [
    "import matplotlib.pyplot as plt\n",
    "%matplotlib inline\n",
    "\n",
    "plt.figure(figsize=(16, 420))\n",
    "plt.imshow(N, cmap='Blues')\n",
    "for i in range(702):\n",
    "    for j in range(27):\n",
    "        chstr = itodoublet[i] + ' ' + itos[j]\n",
    "        plt.text(j, i, chstr, ha='center', va='bottom', color='gray')\n",
    "        plt.text(j, i, N[i, j].item(), ha='center', va='top', color='gray')\n",
    "plt.axis('off')"
   ]
  },
  {
   "cell_type": "markdown",
   "metadata": {},
   "source": [
    "Now we will convert this Count Matrix to a Probability Matrix:"
   ]
  },
  {
   "cell_type": "code",
   "execution_count": 41,
   "metadata": {},
   "outputs": [
    {
     "data": {
      "text/plain": [
       "torch.Size([702, 27])"
      ]
     },
     "execution_count": 41,
     "metadata": {},
     "output_type": "execute_result"
    }
   ],
   "source": [
    "P = (N).float()\n",
    "P.shape"
   ]
  },
  {
   "cell_type": "markdown",
   "metadata": {},
   "source": [
    "Time to convert the Count-Matrix to a probability-Matrix. Now every row will contain a probability distribution based on the counts of that row."
   ]
  },
  {
   "cell_type": "code",
   "execution_count": 42,
   "metadata": {},
   "outputs": [],
   "source": [
    "P /= P.sum(1, keepdim=True)"
   ]
  },
  {
   "cell_type": "markdown",
   "metadata": {},
   "source": [
    "This code will visualize the probabilites for the next character given the previous two characters. Please beware that this matrix is very long so after you've had a look at the matrix maybe clear the ouput so you don't have to scroll a lot."
   ]
  },
  {
   "cell_type": "code",
   "execution_count": null,
   "metadata": {},
   "outputs": [],
   "source": [
    "\n",
    "\n",
    "import matplotlib.pyplot as plt\n",
    "%matplotlib inline\n",
    "\n",
    "plt.figure(figsize=(16, 420))\n",
    "plt.imshow(P, cmap='Blues')\n",
    "for i in range(702):\n",
    "    for j in range(27):\n",
    "        chstr = itodoublet[i] + ' ' + itos[j]\n",
    "        plt.text(j, i, chstr, ha='center', va='bottom', color='gray')\n",
    "        plt.text(j, i, \"{:.3f}\".format(P[i, j].item()), ha='center', va='top', color='gray')\n",
    "plt.axis('off')"
   ]
  },
  {
   "cell_type": "markdown",
   "metadata": {},
   "source": [
    "Before I will generate names I will find the probability distribution of the first character in all the names. This is because for our Trigram model to be able to start generating outputs we need two input characters. We only have '*' in the beginning so we need a first character also. We can generate a random first character but this will produce far more unnatural names rather than if we sample from the true distribution of the first characters in our dataset. Therefore we perform the following step: "
   ]
  },
  {
   "cell_type": "code",
   "execution_count": 58,
   "metadata": {},
   "outputs": [],
   "source": [
    "names = train_names\n",
    "\n",
    "# Initializing a dictionary\n",
    "first_char_counts = {}\n",
    "\n",
    "# Counting each first character\n",
    "for name in names:\n",
    "    if name:\n",
    "        first_char = name[0].lower()\n",
    "        if first_char in first_char_counts:\n",
    "            first_char_counts[first_char] += 1\n",
    "        else:\n",
    "            first_char_counts[first_char] = 1\n",
    "\n",
    "# Converting counts to probabilities\n",
    "total_names = len(names)\n",
    "first_char_probabilities = {char: count / total_names for char, count in first_char_counts.items()}\n",
    "\n",
    "# Plucking out the probabilities for each character\n",
    "sorted_probs = sorted(first_char_probabilities.items())  \n",
    "prob_values = [prob for char, prob in sorted_probs]  \n",
    "\n",
    "# Converting to a PyTorch tensor\n",
    "first_character_probs = torch.tensor(prob_values, dtype=torch.float32)"
   ]
  },
  {
   "cell_type": "markdown",
   "metadata": {},
   "source": [
    "Now we can sample from P to get the next character until we get *, in that case we stop generating and we break."
   ]
  },
  {
   "cell_type": "code",
   "execution_count": 48,
   "metadata": {},
   "outputs": [
    {
     "name": "stdout",
     "output_type": "stream",
     "text": [
      "Name:  nueth\n",
      "Name:  lesaillindynklyn\n",
      "Name:  cam\n",
      "Name:  od\n",
      "Name:  xnnia\n",
      "Name:  bana\n",
      "Name:  imalanna\n",
      "Name:  im\n",
      "Name:  nin\n",
      "Name:  azion\n",
      "Name:  quin\n",
      "Name:  gre\n",
      "Name:  here\n",
      "Name:  jayana\n",
      "Name:  vis\n",
      "Name:  rannogpjxjeryah\n",
      "Name:  rayk\n",
      "Name:  ceovfrbah\n",
      "Name:  youray\n",
      "Name:  q\n",
      "Name:  kasha\n",
      "Name:  iva\n",
      "Name:  bentrukwu\n",
      "Name:  iys\n",
      "Name:  caironna\n",
      "Name:  grosabiq\n",
      "Name:  rumalie\n",
      "Name:  jan\n",
      "Name:  jerne\n",
      "Name:  vannia\n",
      "Name:  lan\n",
      "Name:  ylendanni\n",
      "Name:  chajay\n",
      "Name:  hud\n",
      "Name:  ivedsynnjaziesminluwen\n",
      "Name:  gra\n",
      "Name:  inglekileelyn\n",
      "Name:  is\n",
      "Name:  um\n",
      "Name:  gian\n",
      "Name:  em\n",
      "Name:  stcjldmzbres\n",
      "Name:  ka\n",
      "Name:  selie\n",
      "Name:  kencmla\n",
      "Name:  aydne\n"
     ]
    }
   ],
   "source": [
    "# We can generate 20 names for example:\n",
    "\n",
    "g = torch.Generator().manual_seed(423283494)\n",
    "\n",
    "for i in range(50):\n",
    "    out = []\n",
    "\n",
    "    # Sampling the first character:\n",
    "    first_char = torch.multinomial(first_character_probs, num_samples=1)\n",
    "    first_char = itos[first_char.item()]\n",
    "    if first_char == '*':\n",
    "        continue\n",
    "    first_doublet = f'*{first_char}'\n",
    "    first_doublet_index = torch.tensor(doublettoi[first_doublet])\n",
    "    out.append(first_char)\n",
    "    first_doublet = f'*{first_char}'\n",
    "\n",
    "    ix = doublettoi[first_doublet]\n",
    "    \n",
    "    while True:\n",
    "\n",
    "        # Pluck out the probability distribution for the next character\n",
    "        p = P[ix]\n",
    "\n",
    "        #print('ix: ', ix)\n",
    "        #print('current input doublet: ', itodoublet[ix])\n",
    "        # Sampling\n",
    "        next_char_ix = torch.multinomial(p, num_samples=1, replacement=True, generator=g).item()\n",
    "\n",
    "        #print('next char ix: ', next_char_ix)\n",
    "        if next_char_ix == 0:\n",
    "            break\n",
    "        #print('Adding to out: ', itos[next_char_ix])\n",
    "        out.append(itos[next_char_ix])\n",
    "        next_doublet = ''.join(out[-2:])\n",
    "        #print('next_doublet: ', next_doublet)\n",
    "\n",
    "        ix = doublettoi[next_doublet]\n",
    "\n",
    "    print('Name: ', ''.join(out))"
   ]
  },
  {
   "cell_type": "markdown",
   "metadata": {},
   "source": [
    "Let's evaluate our Trigram model on our test-set and see what our Negative Log-likehihood is. We want this value (loss) to be as low as possible. A value of zero indicates that our model is 100% confident about every character in every word showing up when they actually do. In other words it would be able to perfectly predict the names in our dataset. This can't happen in practice but in theory that is kind of what we aim for."
   ]
  },
  {
   "cell_type": "code",
   "execution_count": 49,
   "metadata": {},
   "outputs": [
    {
     "name": "stdout",
     "output_type": "stream",
     "text": [
      "Log Likelihood is: -41790.421875\n",
      "Negative Log Likelihood is: 41790.421875\n",
      "Average Negative Log Likelihood is: 2.136197090148926\n"
     ]
    }
   ],
   "source": [
    "log_likelihood = 0.0\n",
    "count = 0\n",
    "\n",
    "for w in test_names:\n",
    "    chs = ['*'] + list(w) + ['*']\n",
    "    for i in range(len(chs) - 2):\n",
    "        doublet = chs[i] + chs[i + 1]\n",
    "        ch2 = chs[i + 2]\n",
    "        ix1 = doublettoi[doublet]\n",
    "        ix2 = stoi[ch2]\n",
    "        prob = P[ix1, ix2]\n",
    "        logprob = torch.log(prob)\n",
    "        log_likelihood += logprob\n",
    "        count += 1\n",
    "\n",
    "\n",
    "print(f\"Log Likelihood is: {log_likelihood}\")\n",
    "nll = -log_likelihood\n",
    "print(f\"Negative Log Likelihood is: {nll}\")\n",
    "mean_nll = nll/count\n",
    "print(f\"Average Negative Log Likelihood is: {mean_nll}\")"
   ]
  },
  {
   "cell_type": "markdown",
   "metadata": {},
   "source": [
    "So the loss we achieve on the first approach using a probability matrix is roughly 2.126."
   ]
  },
  {
   "cell_type": "markdown",
   "metadata": {},
   "source": [
    "Now we will do the same thing but with a Neural Net instead:"
   ]
  },
  {
   "cell_type": "code",
   "execution_count": 60,
   "metadata": {},
   "outputs": [
    {
     "name": "stdout",
     "output_type": "stream",
     "text": [
      "Number of examples:  156871\n"
     ]
    },
    {
     "data": {
      "text/plain": [
       "(tensor([  8, 247, 367,  ..., 472, 141, 323]),\n",
       " tensor([14,  4,  9,  ..., 12, 12,  0]))"
      ]
     },
     "execution_count": 60,
     "metadata": {},
     "output_type": "execute_result"
    }
   ],
   "source": [
    "# Creating a Neural Net to solve the same task:\n",
    "\n",
    "# Creating the Train Dataset:\n",
    "\n",
    "xs, ys = [], []\n",
    "\n",
    "for w in train_names:\n",
    "    chs = ['*'] + list(w) + ['*']\n",
    "    for i in range(len(chs) - 2):\n",
    "        doublet = chs[i] + chs[i + 1]\n",
    "        ch2 = chs[i + 2]\n",
    "        ix1 = doublettoi[doublet]\n",
    "        ix2 = stoi[ch2]\n",
    "        xs.append(ix1)\n",
    "        ys.append(ix2)\n",
    "\n",
    "xs = torch.tensor(xs)\n",
    "ys = torch.tensor(ys)\n",
    "\n",
    "num_examples = xs.nelement()\n",
    "print('Number of examples: ', num_examples)\n",
    "xs, ys"
   ]
  },
  {
   "cell_type": "markdown",
   "metadata": {},
   "source": [
    "Our Neurons will each receive 702 inputs and we will have 27 neurons in total producing an output with dim 1 x 27. We will interpret these outputs as a probability distribution over the next character given an input of a two-character string."
   ]
  },
  {
   "cell_type": "code",
   "execution_count": 74,
   "metadata": {},
   "outputs": [],
   "source": [
    "# Initializing the Neural Network:\n",
    "\n",
    "g = torch.Generator().manual_seed(2147483647)\n",
    "W = torch.randn((27, 702), generator=g, requires_grad=True)"
   ]
  },
  {
   "cell_type": "markdown",
   "metadata": {},
   "source": [
    "This is the code that will process inputs with our neural net, calculate the loss, from the loss calculate the gradients and from the gradient update the weights in our Neural Net properly. \n",
    "\n",
    "In the beginning I used one-hot encoding to encode my inputs to the Neural Net but later realized that that was equivalent to just plucking out a column from the matrix because every column of the weight matrix contains a certain probability ditribution for the next character given a certain input doublet."
   ]
  },
  {
   "cell_type": "code",
   "execution_count": 89,
   "metadata": {},
   "outputs": [
    {
     "name": "stdout",
     "output_type": "stream",
     "text": [
      "156871\n",
      "2.195070505142212\n",
      "2.1947994232177734\n",
      "2.1945300102233887\n",
      "2.1942625045776367\n",
      "2.1939964294433594\n",
      "2.193732261657715\n",
      "2.193469524383545\n",
      "2.193208932876587\n",
      "2.1929495334625244\n",
      "2.1926915645599365\n",
      "2.1924352645874023\n",
      "2.1921803951263428\n",
      "2.1919267177581787\n",
      "2.1916751861572266\n",
      "2.191425085067749\n",
      "2.191176652908325\n",
      "2.1909289360046387\n",
      "2.190683603286743\n",
      "2.190439224243164\n",
      "2.1901962757110596\n",
      "2.1899547576904297\n",
      "2.1897149085998535\n",
      "2.1894760131835938\n",
      "2.1892387866973877\n",
      "2.1890029907226562\n",
      "2.1887683868408203\n",
      "2.188535451889038\n",
      "2.188303232192993\n",
      "2.188072919845581\n",
      "2.1878435611724854\n",
      "2.1876156330108643\n",
      "2.1873891353607178\n",
      "2.187164306640625\n",
      "2.1869401931762695\n",
      "2.1867175102233887\n",
      "2.1864962577819824\n",
      "2.186276435852051\n",
      "2.1860575675964355\n",
      "2.185840129852295\n",
      "2.1856236457824707\n",
      "2.185408592224121\n",
      "2.185194492340088\n",
      "2.1849818229675293\n",
      "2.1847705841064453\n",
      "2.1845595836639404\n",
      "2.1843507289886475\n",
      "2.184142827987671\n",
      "2.1839358806610107\n",
      "2.183729887008667\n",
      "2.183525562286377\n",
      "2.183321714401245\n",
      "2.183119297027588\n",
      "2.182917833328247\n",
      "2.182717800140381\n",
      "2.182518720626831\n",
      "2.1823205947875977\n",
      "2.1821236610412598\n",
      "2.1819279193878174\n",
      "2.1817328929901123\n",
      "2.181539297103882\n",
      "2.1813464164733887\n",
      "2.181154727935791\n",
      "2.1809637546539307\n",
      "2.180774211883545\n",
      "2.1805853843688965\n",
      "2.1803975105285645\n",
      "2.180210828781128\n",
      "2.180025100708008\n",
      "2.179840087890625\n",
      "2.1796560287475586\n",
      "2.1794731616973877\n",
      "2.179291009902954\n",
      "2.179110288619995\n",
      "2.1789300441741943\n",
      "2.178750514984131\n",
      "2.178572177886963\n",
      "2.1783952713012695\n",
      "2.178218364715576\n",
      "2.1780428886413574\n",
      "2.177868127822876\n",
      "2.177694320678711\n",
      "2.1775214672088623\n",
      "2.17734956741333\n",
      "2.177178144454956\n",
      "2.1770083904266357\n",
      "2.1768388748168945\n",
      "2.176670551300049\n",
      "2.1765024662017822\n",
      "2.1763360500335693\n",
      "2.1761701107025146\n",
      "2.1760051250457764\n",
      "2.1758408546447754\n",
      "2.1756772994995117\n",
      "2.1755144596099854\n",
      "2.1753528118133545\n",
      "2.1751914024353027\n",
      "2.1750311851501465\n",
      "2.1748719215393066\n",
      "2.174713134765625\n",
      "2.174555540084839\n",
      "2.174398183822632\n",
      "2.1742420196533203\n",
      "2.174086332321167\n",
      "2.173931360244751\n",
      "2.1737773418426514\n",
      "2.17362380027771\n",
      "2.173471212387085\n",
      "2.173319101333618\n",
      "2.1731679439544678\n",
      "2.1730172634124756\n",
      "2.1728675365448\n",
      "2.1727182865142822\n",
      "2.172569990158081\n",
      "2.172421932220459\n",
      "2.1722750663757324\n",
      "2.172128677368164\n",
      "2.171983003616333\n",
      "2.1718380451202393\n",
      "2.171693801879883\n",
      "2.1715500354766846\n",
      "2.1714069843292236\n",
      "2.171264410018921\n",
      "2.1711227893829346\n",
      "2.1709818840026855\n",
      "2.170841693878174\n",
      "2.170701742172241\n",
      "2.170562505722046\n",
      "2.170423746109009\n",
      "2.170286178588867\n",
      "2.170149087905884\n",
      "2.1700122356414795\n",
      "2.1698763370513916\n",
      "2.169740915298462\n",
      "2.1696062088012695\n",
      "2.1694719791412354\n",
      "2.1693384647369385\n",
      "2.1692054271698\n",
      "2.1690726280212402\n",
      "2.168941020965576\n",
      "2.168809413909912\n",
      "2.1686787605285645\n",
      "2.168548583984375\n",
      "2.168419122695923\n",
      "2.16828989982605\n",
      "2.168161630630493\n",
      "2.1680335998535156\n",
      "2.1679062843322754\n",
      "2.1677792072296143\n",
      "2.1676530838012695\n",
      "2.167527198791504\n",
      "2.1674020290374756\n",
      "2.1672775745391846\n",
      "2.1671533584594727\n",
      "2.167029619216919\n",
      "2.1669065952301025\n",
      "2.1667838096618652\n",
      "2.1666619777679443\n",
      "2.1665403842926025\n",
      "2.166419744491577\n",
      "2.1662991046905518\n",
      "2.1661789417266846\n",
      "2.1660592555999756\n",
      "2.165940284729004\n",
      "2.1658215522766113\n",
      "2.165703773498535\n",
      "2.165586233139038\n",
      "2.1654694080352783\n",
      "2.1653528213500977\n",
      "2.165236473083496\n",
      "2.165121078491211\n",
      "2.165005922317505\n",
      "2.164891004562378\n",
      "2.1647770404815674\n",
      "2.164663314819336\n",
      "2.1645500659942627\n",
      "2.1644375324249268\n",
      "2.16432523727417\n",
      "2.1642134189605713\n",
      "2.1641018390655518\n",
      "2.1639909744262695\n",
      "2.1638805866241455\n",
      "2.1637706756591797\n",
      "2.163661003112793\n",
      "2.1635520458221436\n",
      "2.1634433269500732\n",
      "2.163335084915161\n",
      "2.1632273197174072\n",
      "2.1631202697753906\n",
      "2.163012981414795\n",
      "2.1629064083099365\n",
      "2.1628005504608154\n",
      "2.1626946926116943\n",
      "2.1625893115997314\n",
      "2.162484884262085\n",
      "2.1623804569244385\n",
      "2.16227650642395\n",
      "2.162172794342041\n",
      "2.16206955909729\n",
      "2.1619668006896973\n",
      "2.1618642807006836\n",
      "2.1617624759674072\n",
      "2.161660671234131\n",
      "2.161559820175171\n",
      "2.161458969116211\n",
      "2.16135835647583\n",
      "2.1612584590911865\n",
      "2.161159038543701\n",
      "2.161059617996216\n",
      "2.1609609127044678\n",
      "2.160862684249878\n",
      "2.160764694213867\n",
      "2.1606671810150146\n",
      "2.160569906234741\n",
      "2.160472869873047\n",
      "2.16037654876709\n",
      "2.160280227661133\n",
      "2.160184860229492\n",
      "2.1600892543792725\n",
      "2.159994125366211\n",
      "2.1598994731903076\n",
      "2.1598050594329834\n",
      "2.1597111225128174\n",
      "2.1596174240112305\n",
      "2.15952467918396\n",
      "2.1594314575195312\n",
      "2.15933895111084\n",
      "2.1592469215393066\n",
      "2.1591548919677734\n",
      "2.1590631008148193\n",
      "2.1589720249176025\n",
      "2.1588809490203857\n",
      "2.1587908267974854\n",
      "2.1587002277374268\n",
      "2.1586101055145264\n",
      "2.1585206985473633\n",
      "2.1584317684173584\n",
      "2.1583425998687744\n",
      "2.1582541465759277\n",
      "2.15816593170166\n",
      "2.1580779552459717\n",
      "2.1579904556274414\n",
      "2.157902956008911\n",
      "2.157816171646118\n",
      "2.157729387283325\n",
      "2.1576430797576904\n",
      "2.1575570106506348\n",
      "2.157471179962158\n",
      "2.1573855876922607\n",
      "2.1573004722595215\n",
      "2.1572158336639404\n",
      "2.1571309566497803\n",
      "2.1570467948913574\n",
      "2.1569628715515137\n",
      "2.156879186630249\n",
      "2.1567962169647217\n",
      "2.156712770462036\n",
      "2.156630277633667\n",
      "2.156547784805298\n",
      "2.1564650535583496\n",
      "2.156383514404297\n",
      "2.156301975250244\n",
      "2.1562204360961914\n",
      "2.156139373779297\n",
      "2.1560585498809814\n",
      "2.155977964401245\n",
      "2.155897617340088\n",
      "2.155817747116089\n",
      "2.15573787689209\n",
      "2.155658483505249\n",
      "2.1555795669555664\n",
      "2.1555004119873047\n",
      "2.1554219722747803\n",
      "2.155343532562256\n",
      "2.1552653312683105\n",
      "2.1551878452301025\n",
      "2.1551098823547363\n",
      "2.1550328731536865\n",
      "2.1549553871154785\n",
      "2.154878854751587\n",
      "2.154802083969116\n",
      "2.1547257900238037\n",
      "2.1546499729156494\n",
      "2.154574155807495\n",
      "2.154498338699341\n",
      "2.154423236846924\n",
      "2.1543478965759277\n",
      "2.154273509979248\n",
      "2.154198408126831\n",
      "2.1541244983673096\n",
      "2.15405011177063\n",
      "2.1539764404296875\n",
      "2.153902769088745\n",
      "2.153829336166382\n",
      "2.1537561416625977\n",
      "2.1536834239959717\n",
      "2.1536107063293457\n",
      "2.153538465499878\n",
      "2.15346622467041\n",
      "2.1533942222595215\n",
      "2.153322458267212\n"
     ]
    }
   ],
   "source": [
    "# Performing Gradient Descent to improve the performance of the Network:\n",
    "num_examples = xs.nelement()\n",
    "print(num_examples)\n",
    "\n",
    "for k in range(300):\n",
    "\n",
    "    # Forward pass\n",
    "\n",
    "    # I originally started with this method for encoding inputs that could be fed into the weight matrix.\n",
    "    # However I realized that that was equal to plucking out a specific column from the weight matrix directly.\n",
    "    # We encode our input with the one-hot encoding, creating a tensor that is filled with 701 zeros and 1 one to signal which of the possible\n",
    "    # 702 input combinations is currently being fed to the network.\n",
    "    # xenc = F.one_hot(xs_val, num_classes=702).float()\n",
    "    \n",
    "    logits = W[:, xs].T # Logits prediction\n",
    "    counts = logits.exp() # Now we only have positive counts\n",
    "    probs = counts / counts.sum(1, keepdim=True) # Now we have the probabilities outputted from the Neural Net for next character\n",
    "    # Also adding a regularization term to the loss to prevent overfitting the train set:\n",
    "    hyperparam_scalar = 0.05\n",
    "    loss = -probs[torch.arange(num_examples), ys].log().mean() + hyperparam_scalar*abs(W).mean() # The loss we use here is the Negative Log-likelihood Loss\n",
    "    print(loss.item())\n",
    "\n",
    "    # Backward pass\n",
    "    W.grad = None # Set to zero the gradient\n",
    "    loss.backward()\n",
    "\n",
    "    # Update\n",
    "    W.data += -80 * W.grad\n",
    "\n"
   ]
  },
  {
   "cell_type": "markdown",
   "metadata": {},
   "source": [
    "I am going to evaluate the loss on the test set to decide what value of the hyperparameter is best when we train the network. We want it to generalize well of course."
   ]
  },
  {
   "cell_type": "code",
   "execution_count": 67,
   "metadata": {},
   "outputs": [
    {
     "name": "stdout",
     "output_type": "stream",
     "text": [
      "Number of examples:  19679\n"
     ]
    }
   ],
   "source": [
    "# Creating the Val Dataset:\n",
    "\n",
    "xs_val, ys_val = [], []\n",
    "\n",
    "for w in val_names:\n",
    "    chs = ['*'] + list(w) + ['*']\n",
    "    for i in range(len(chs) - 2):\n",
    "        doublet = chs[i] + chs[i + 1]\n",
    "        ch2 = chs[i + 2]\n",
    "        ix1 = doublettoi[doublet]\n",
    "        ix2 = stoi[ch2]\n",
    "        xs_val.append(ix1)\n",
    "        ys_val.append(ix2)\n",
    "\n",
    "xs_val = torch.tensor(xs_val)\n",
    "ys_val = torch.tensor(ys_val)\n",
    "\n",
    "num_examples = xs_val.nelement()\n",
    "print('Number of examples: ', num_examples)"
   ]
  },
  {
   "cell_type": "markdown",
   "metadata": {},
   "source": [
    "Let's evaluate the loss on the validation set:"
   ]
  },
  {
   "cell_type": "code",
   "execution_count": 88,
   "metadata": {},
   "outputs": [
    {
     "name": "stdout",
     "output_type": "stream",
     "text": [
      "19679\n",
      "2.1695034503936768\n"
     ]
    }
   ],
   "source": [
    "# Performing Gradient Descent to improve the performance of the Network:\n",
    "num_examples = xs_val.nelement()\n",
    "print(num_examples)\n",
    "\n",
    "logits = W[:, xs_val].T\n",
    "counts = logits.exp() # Now we only have positive counts\n",
    "probs = counts / counts.sum(1, keepdim=True) # Now we have the probabilities outputted from the Neural Net for next character\n",
    "loss = -probs[torch.arange(num_examples), ys_val].log().mean() # The loss we use here is the Negative Log-likelihood Loss\n",
    "print(loss.item())"
   ]
  },
  {
   "cell_type": "markdown",
   "metadata": {},
   "source": [
    "After a couple hyperparameter trials I decided on 0.05 for the hyperparameter scalar. That seemed like a good value."
   ]
  },
  {
   "cell_type": "markdown",
   "metadata": {},
   "source": [
    "Now let's evaluate the Neural Network on the Test-set:"
   ]
  },
  {
   "cell_type": "code",
   "execution_count": 77,
   "metadata": {},
   "outputs": [
    {
     "name": "stdout",
     "output_type": "stream",
     "text": [
      "Number of examples:  19563\n"
     ]
    }
   ],
   "source": [
    "# Creating the Test Dataset:\n",
    "\n",
    "xs_test, ys_test = [], []\n",
    "\n",
    "for w in test_names:\n",
    "    chs = ['*'] + list(w) + ['*']\n",
    "    for i in range(len(chs) - 2):\n",
    "        doublet = chs[i] + chs[i + 1]\n",
    "        ch2 = chs[i + 2]\n",
    "        ix1 = doublettoi[doublet]\n",
    "        ix2 = stoi[ch2]\n",
    "        xs_test.append(ix1)\n",
    "        ys_test.append(ix2)\n",
    "\n",
    "xs_test = torch.tensor(xs_test)\n",
    "ys_test = torch.tensor(ys_test)\n",
    "\n",
    "num_examples = xs_test.nelement()\n",
    "print('Number of examples: ', num_examples)"
   ]
  },
  {
   "cell_type": "code",
   "execution_count": 91,
   "metadata": {},
   "outputs": [
    {
     "name": "stdout",
     "output_type": "stream",
     "text": [
      "19563\n",
      "2.1543233394622803\n"
     ]
    }
   ],
   "source": [
    "# Performing Gradient Descent to improve the performance of the Network:\n",
    "num_examples = xs_test.nelement()\n",
    "print(num_examples)\n",
    "\n",
    "logits = W[:, xs_test].T # Logits prediction\n",
    "counts = logits.exp() # Now we only have positive counts\n",
    "probs = counts / counts.sum(1, keepdim=True) # Now we have the probabilities outputted from the Neural Net for next character\n",
    "loss = -probs[torch.arange(num_examples), ys_test].log().mean() # The loss we use here is the Negative Log-likelihood Loss\n",
    "print(loss.item())"
   ]
  },
  {
   "cell_type": "markdown",
   "metadata": {},
   "source": [
    "If you run the training code for a couple of times you can actually achieve lower loss on the test-set than approach 1. This is actually really interesting and I dont know quite why at this point. I did not think that this was possible actually. But my best loss for approach 1 was: 2.156 and loss for approach 2 was: 2.152."
   ]
  },
  {
   "cell_type": "markdown",
   "metadata": {},
   "source": [
    "Now we can simulate some names with approach 2 as well:"
   ]
  },
  {
   "cell_type": "code",
   "execution_count": 92,
   "metadata": {},
   "outputs": [
    {
     "name": "stdout",
     "output_type": "stream",
     "text": [
      "kauriah\n",
      "shon\n",
      "da\n",
      "zy\n",
      "brissaniquellie\n",
      "noore\n",
      "kaymiereennesnblaimyah\n",
      "aliseri\n",
      "kaljwdhyleiggpjcni\n",
      "aidi\n",
      "mes\n",
      "fin\n",
      "ma\n",
      "zarralani\n",
      "penangzwparvpfqxafadyn\n",
      "ittejah\n",
      "ley\n",
      "cregane\n",
      "loah\n",
      "sameigh\n"
     ]
    }
   ],
   "source": [
    "for i in range(20):\n",
    "\n",
    "\n",
    "    first_char = torch.multinomial(first_character_probs, num_samples=1)\n",
    "    first_char = itos[first_char.item()+1]\n",
    "    first_doublet = f'*{first_char}'\n",
    "    first_doublet_index = torch.tensor(doublettoi[first_doublet])\n",
    "\n",
    "    start_symbol = F.one_hot(first_doublet_index, num_classes=702).float() # Inputting start symbol to the Neural Network to make it produce output characters\n",
    "    current_doublet = start_symbol\n",
    "    # Initializing current name:\n",
    "    current_word = []\n",
    "    # Adding the first randomly generated character:\n",
    "    current_word.append(first_char)\n",
    "\n",
    "    # This variable will keep track of the index of the current input doublet:\n",
    "    next_doublet_index = torch.tensor(1)\n",
    "\n",
    "    while(True):\n",
    "        logits = current_doublet @ W.T # Logits prediction\n",
    "        counts = logits.exp() # Now we only have positive counts\n",
    "        probs = counts / counts.sum(0, keepdim=True)\n",
    "        # probs = torch.ones(27) / 27 This line is for anyone curious about the difference between a Trigram and random generation\n",
    "\n",
    "        # Sampling next character index:\n",
    "        next_single_char_index = torch.multinomial(probs, num_samples=1)\n",
    "        # If it is * we have reached the end of the name\n",
    "        if next_single_char_index == 0:\n",
    "            break\n",
    "\n",
    "        # Plucking out next character from index:\n",
    "        next_char = itos[next_single_char_index.item()]\n",
    "        # Appending to current name:\n",
    "        current_word.append(next_char)\n",
    "        # Plucking out next doublet input:\n",
    "        next_doublet = current_word[-2:]\n",
    "        next_doublet = ''.join(next_doublet)\n",
    "        next_doublet_index = torch.tensor(doublettoi[next_doublet])\n",
    "        current_doublet = F.one_hot(next_doublet_index, num_classes=702).float()\n",
    "\n",
    "    # Printing the current name:\n",
    "    current_word = ''.join(current_word)\n",
    "    print(current_word)"
   ]
  },
  {
   "cell_type": "markdown",
   "metadata": {},
   "source": [
    "## That's that!\n",
    "Btw I'm really interested in business and AI.\n",
    "For any business ideas please reach out to filiplarssonnnn@gmail.com\n",
    "\n",
    "Bye!"
   ]
  }
 ],
 "metadata": {
  "kernelspec": {
   "display_name": "ml_project_env",
   "language": "python",
   "name": "ml_project_env"
  },
  "language_info": {
   "codemirror_mode": {
    "name": "ipython",
    "version": 3
   },
   "file_extension": ".py",
   "mimetype": "text/x-python",
   "name": "python",
   "nbconvert_exporter": "python",
   "pygments_lexer": "ipython3",
   "version": "3.12.3"
  }
 },
 "nbformat": 4,
 "nbformat_minor": 2
}
